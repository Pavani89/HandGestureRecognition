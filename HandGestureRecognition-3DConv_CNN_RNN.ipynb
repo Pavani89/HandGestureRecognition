{
 "cells": [
  {
   "cell_type": "markdown",
   "metadata": {
    "id": "8YabEFOv7xn6"
   },
   "source": [
    "# Gesture Recognition\n",
    "In this group project, you are going to build a 3D Conv model that will be able to predict the 5 gestures correctly. Please import the following libraries to get started."
   ]
  },
  {
   "cell_type": "code",
   "execution_count": 1,
   "metadata": {
    "executionInfo": {
     "elapsed": 168,
     "status": "ok",
     "timestamp": 1730336224836,
     "user": {
      "displayName": "Pavani Rao",
      "userId": "14862063163482163309"
     },
     "user_tz": -330
    },
    "id": "UrXG95lr7xn9"
   },
   "outputs": [],
   "source": [
    "import numpy as np\n",
    "import os\n",
    "from imageio import imread\n",
    "from skimage.transform import resize\n",
    "import datetime\n",
    "import cv2\n",
    "import matplotlib.pyplot as plt"
   ]
  },
  {
   "cell_type": "code",
   "execution_count": 2,
   "metadata": {
    "executionInfo": {
     "elapsed": 3,
     "status": "ok",
     "timestamp": 1730336225004,
     "user": {
      "displayName": "Pavani Rao",
      "userId": "14862063163482163309"
     },
     "user_tz": -330
    },
    "id": "7JQY-vDw78Ed"
   },
   "outputs": [],
   "source": [
    "from tensorflow.keras.applications import mobilenet\n",
    "from tensorflow.keras.models import Sequential\n",
    "from tensorflow.keras.layers import Dense, GRU, Dropout, Flatten,TimeDistributed, BatchNormalization, Activation, Conv3D,Conv2D, MaxPooling3D,MaxPooling2D\n",
    "from tensorflow.keras.layers import LSTM\n",
    "from tensorflow.keras.callbacks import ModelCheckpoint, ReduceLROnPlateau\n",
    "from tensorflow.keras import optimizers\n",
    "from tensorflow.keras.regularizers import l1,l2"
   ]
  },
  {
   "cell_type": "markdown",
   "metadata": {
    "id": "N9C2gYEp7xn_"
   },
   "source": [
    "We set the random seed so that the results don't vary drastically."
   ]
  },
  {
   "cell_type": "code",
   "execution_count": 3,
   "metadata": {
    "executionInfo": {
     "elapsed": 168,
     "status": "ok",
     "timestamp": 1730336225169,
     "user": {
      "displayName": "Pavani Rao",
      "userId": "14862063163482163309"
     },
     "user_tz": -330
    },
    "id": "-X47bBj17xn_"
   },
   "outputs": [],
   "source": [
    "np.random.seed(30)\n",
    "import random as rn\n",
    "rn.seed(30)\n",
    "from tensorflow import keras\n",
    "import tensorflow as tf\n",
    "tf.random.set_seed(30)"
   ]
  },
  {
   "cell_type": "markdown",
   "metadata": {
    "id": "6MTudPWu7xoA"
   },
   "source": [
    "In this block, you read the folder names for training and validation. You also set the `batch_size` here. Note that you set the batch size in such a way that you are able to use the GPU in full capacity. You keep increasing the batch size until the machine throws an error."
   ]
  },
  {
   "cell_type": "code",
   "execution_count": 5,
   "metadata": {
    "executionInfo": {
     "elapsed": 11,
     "status": "ok",
     "timestamp": 1730336225949,
     "user": {
      "displayName": "Pavani Rao",
      "userId": "14862063163482163309"
     },
     "user_tz": -330
    },
    "id": "pBxwuHpA7xoA"
   },
   "outputs": [],
   "source": [
    "train_doc = np.random.permutation(open('/home/datasets/Project_data/train.csv').readlines())\n",
    "val_doc = np.random.permutation(open('/home/datasets/Project_data/val.csv').readlines())\n",
    "batch_size = 10 #experiment with the batch size"
   ]
  },
  {
   "cell_type": "code",
   "execution_count": 6,
   "metadata": {
    "executionInfo": {
     "elapsed": 10,
     "status": "ok",
     "timestamp": 1730336225949,
     "user": {
      "displayName": "Pavani Rao",
      "userId": "14862063163482163309"
     },
     "user_tz": -330
    },
    "id": "WmL6YAVT8rRS"
   },
   "outputs": [],
   "source": [
    "# Defining Hyperparameters\n",
    "rows = 120   # X\n",
    "cols = 120   # Y\n",
    "channel = 3  # number of channels in images 3 for color(RGB)\n",
    "frames=10"
   ]
  },
  {
   "cell_type": "code",
   "execution_count": 7,
   "metadata": {
    "executionInfo": {
     "elapsed": 10,
     "status": "ok",
     "timestamp": 1730336225949,
     "user": {
      "displayName": "Pavani Rao",
      "userId": "14862063163482163309"
     },
     "user_tz": -330
    },
    "id": "VLKvBxd_85LB"
   },
   "outputs": [],
   "source": [
    "# Image resizing - such that we have all the images in a specific size\n",
    "def cropResize(img):\n",
    "    if img.shape[0] != img.shape[1]:\n",
    "        img=img[0:120,10:150]\n",
    "    resized_image = resize(img, (rows,cols))\n",
    "    return resized_image"
   ]
  },
  {
   "cell_type": "code",
   "execution_count": 8,
   "metadata": {
    "executionInfo": {
     "elapsed": 10,
     "status": "ok",
     "timestamp": 1730336225950,
     "user": {
      "displayName": "Pavani Rao",
      "userId": "14862063163482163309"
     },
     "user_tz": -330
    },
    "id": "48LTM3-I9Tii"
   },
   "outputs": [],
   "source": [
    "# Plot t view the training and validation accuracy\n",
    "def plot(history):\n",
    "\n",
    "    acc = history.history['categorical_accuracy']\n",
    "    val_acc = history.history['val_categorical_accuracy']\n",
    "\n",
    "    loss = history.history['loss']\n",
    "    val_loss = history.history['val_loss']\n",
    "\n",
    "    epochs_range = range(num_epochs)\n",
    "\n",
    "    plt.figure(figsize=(8, 8))\n",
    "    plt.subplot(1, 2, 1)\n",
    "    plt.plot(epochs_range, acc, label='Training Accuracy')\n",
    "    plt.plot(epochs_range, val_acc, label='Validation Accuracy')\n",
    "    plt.legend(loc='lower right')\n",
    "    plt.title('Training and Validation Accuracy')\n",
    "\n",
    "    plt.subplot(1, 2, 2)\n",
    "    plt.plot(epochs_range, loss, label='Training Loss')\n",
    "    plt.plot(epochs_range, val_loss, label='Validation Loss')\n",
    "    plt.legend(loc='upper right')\n",
    "    plt.title('Training and Validation Loss')\n",
    "    plt.show()"
   ]
  },
  {
   "cell_type": "markdown",
   "metadata": {
    "id": "kM4Oj_PY7xoB"
   },
   "source": [
    "## Generator\n",
    "This is one of the most important part of the code. The overall structure of the generator has been given. In the generator, you are going to preprocess the images as you have images of 2 different dimensions as well as create a batch of video frames. You have to experiment with `img_idx`, `y`,`z` and normalization such that you get high accuracy."
   ]
  },
  {
   "cell_type": "code",
   "execution_count": 9,
   "metadata": {
    "executionInfo": {
     "elapsed": 10,
     "status": "ok",
     "timestamp": 1730336225950,
     "user": {
      "displayName": "Pavani Rao",
      "userId": "14862063163482163309"
     },
     "user_tz": -330
    },
    "id": "zplHm1iM7xoB"
   },
   "outputs": [],
   "source": [
    "def generator(source_path, folder_list, batch_size):\n",
    "    print( 'Source path = ', source_path, '; batch size =', batch_size)\n",
    "    img_idx =  np.round(np.linspace(0,29,frames)).astype(int)\n",
    "    print(len(img_idx))\n",
    "\n",
    "    while True:\n",
    "        t = np.random.permutation(folder_list)\n",
    "        x = len(img_idx)\n",
    "        y = 120\n",
    "        z = 120\n",
    "        num_batches = len(folder_list)//batch_size\n",
    "        for batch in range(num_batches): # we iterate over the number of batches\n",
    "            batch_data = np.zeros((batch_size,frames,rows,cols,channel))\n",
    "            batch_labels = np.zeros((batch_size,5))\n",
    "            for folder in range(batch_size): # iterate over the batch_size\n",
    "                imgs = os.listdir(source_path+'/'+ t[folder + (batch*batch_size)].split(';')[0]) # read all the images in the folder\n",
    "                for idx,item in enumerate(img_idx): #  Iterate iver the frames/images of a folder to read them in\n",
    "                    image = cv2.imread(source_path+'/'+ t[folder + (batch*batch_size)].strip().split(';')[0]+'/'+imgs[item]).astype(np.float32)\n",
    "                    image = cv2.cvtColor(image, cv2.COLOR_BGR2RGB)\n",
    "                    # cropping the images, image_cropped = image[80:360,30:360,:]\n",
    "                    # crop the images and resize them. Note that the images are of 2 different shape\n",
    "                    #and the conv3D will throw error if the inputs in a batch have different shapes\n",
    "                    image_resized = cropResize(image)\n",
    "                    batch_data[folder,idx,:,:,0] = (image_resized[:,:,0])/255\n",
    "                    batch_data[folder,idx,:,:,1] = (image_resized[:,:,1])/255\n",
    "                    batch_data[folder,idx,:,:,2] = (image_resized[:,:,2])/255\n",
    "\n",
    "                batch_labels[folder, int(t[folder + (batch*batch_size)].strip().split(';')[2])] = 1\n",
    "                #print(batch_labels.shape)\n",
    "                #print(batch_labels)\n",
    "            yield batch_data, batch_labels\n",
    "\n",
    "        # code for the remaining data points which are left after full batches\n",
    "        if (len(folder_list) != batch_size*num_batches):\n",
    "             print(\"Batch: \",num_batches+1,\"Index:\", batch_size)\n",
    "             batch_size = len(folder_list) - (batch_size*num_batches)\n",
    "             batch_data = np.zeros((batch_size,frames,rows,cols,channel))\n",
    "             batch_labels = np.zeros((batch_size,5))\n",
    "             for folder in range(batch_size): # iterate over the batch_size\n",
    "                imgs = os.listdir(source_path+'/'+ t[folder + (batch*batch_size)].split(';')[0])\n",
    "                for idx,item in enumerate(img_idx):\n",
    "                    image = cv2.imread(source_path+'/'+ t[folder + (batch*batch_size)].strip().split(';')[0]+'/'+imgs[item]).astype(np.float32)\n",
    "                    image = cv2.cvtColor(image, cv2.COLOR_BGR2RGB)\n",
    "                    #image_cropped =image[80:360,30:360,:]\n",
    "                    image_resized = cropResize(image)\n",
    "                    batch_data[folder,idx,:,:,0] = (image_resized[:,:,0])/255\n",
    "                    batch_data[folder,idx,:,:,1] = (image_resized[:,:,1])/255\n",
    "                    batch_data[folder,idx,:,:,2] = (image_resized[:,:,2])/255\n",
    "                batch_labels[folder, int(t[folder + (batch*batch_size)].strip().split(';')[2])] = 1\n",
    "                #print(batch_labels.shape)\n",
    "        yield batch_data, batch_labels\n"
   ]
  },
  {
   "cell_type": "markdown",
   "metadata": {
    "id": "PMN9Vn_S7xoB"
   },
   "source": [
    "Note here that a video is represented above in the generator as (number of images, height, width, number of channels). Take this into consideration while creating the model architecture."
   ]
  },
  {
   "cell_type": "code",
   "execution_count": 10,
   "metadata": {
    "colab": {
     "base_uri": "https://localhost:8080/"
    },
    "executionInfo": {
     "elapsed": 217,
     "status": "ok",
     "timestamp": 1730336226158,
     "user": {
      "displayName": "Pavani Rao",
      "userId": "14862063163482163309"
     },
     "user_tz": -330
    },
    "id": "kjSaeU267xoC",
    "outputId": "e4c16a62-7934-4f86-b927-4d3cdb28a95d"
   },
   "outputs": [
    {
     "name": "stdout",
     "output_type": "stream",
     "text": [
      "# training sequences = 663\n",
      "# validation sequences = 100\n",
      "# epochs = 30\n"
     ]
    }
   ],
   "source": [
    "curr_dt_time = datetime.datetime.now()\n",
    "train_path = '/home/datasets/Project_data/train'\n",
    "val_path = '/home/datasets/Project_data/val'\n",
    "num_train_sequences = len(train_doc)\n",
    "print('# training sequences =', num_train_sequences)\n",
    "num_val_sequences = len(val_doc)\n",
    "print('# validation sequences =', num_val_sequences)\n",
    "num_epochs= 30\n",
    "print ('# epochs =', num_epochs)"
   ]
  },
  {
   "cell_type": "markdown",
   "metadata": {
    "id": "D2VsZyan7xoC"
   },
   "source": [
    "## Model\n",
    "Here you make the model using different functionalities that Keras provides. Remember to use `Conv3D` and `MaxPooling3D` and not `Conv2D` and `Maxpooling2D` for a 3D convolution model. You would want to use `TimeDistributed` while building a Conv2D + RNN model. Also remember that the last layer is the softmax. Design the network in such a way that the model is able to give good accuracy on the least number of parameters so that it can fit in the memory of the webcam."
   ]
  },
  {
   "cell_type": "markdown",
   "metadata": {
    "id": "tD8HuVLmBIac"
   },
   "source": [
    "# 1. Conv3D"
   ]
  },
  {
   "cell_type": "code",
   "execution_count": 11,
   "metadata": {
    "colab": {
     "base_uri": "https://localhost:8080/",
     "height": 1000
    },
    "executionInfo": {
     "elapsed": 598,
     "status": "ok",
     "timestamp": 1730336226754,
     "user": {
      "displayName": "Pavani Rao",
      "userId": "14862063163482163309"
     },
     "user_tz": -330
    },
    "id": "aq85EgJe7xoC",
    "outputId": "22c7cdaf-654c-4156-aa3e-4bb2c19eaea7"
   },
   "outputs": [
    {
     "name": "stdout",
     "output_type": "stream",
     "text": [
      "Model: \"sequential\"\n",
      "_________________________________________________________________\n",
      " Layer (type)                Output Shape              Param #   \n",
      "=================================================================\n",
      " conv3d (Conv3D)             (None, 10, 120, 120, 16)  1312      \n",
      "                                                                 \n",
      " batch_normalization (BatchN  (None, 10, 120, 120, 16)  64       \n",
      " ormalization)                                                   \n",
      "                                                                 \n",
      " activation (Activation)     (None, 10, 120, 120, 16)  0         \n",
      "                                                                 \n",
      " max_pooling3d (MaxPooling3D  (None, 5, 60, 60, 16)    0         \n",
      " )                                                               \n",
      "                                                                 \n",
      " conv3d_1 (Conv3D)           (None, 5, 60, 60, 32)     4128      \n",
      "                                                                 \n",
      " batch_normalization_1 (Batc  (None, 5, 60, 60, 32)    128       \n",
      " hNormalization)                                                 \n",
      "                                                                 \n",
      " activation_1 (Activation)   (None, 5, 60, 60, 32)     0         \n",
      "                                                                 \n",
      " max_pooling3d_1 (MaxPooling  (None, 2, 30, 30, 32)    0         \n",
      " 3D)                                                             \n",
      "                                                                 \n",
      " conv3d_2 (Conv3D)           (None, 2, 30, 30, 64)     16448     \n",
      "                                                                 \n",
      " batch_normalization_2 (Batc  (None, 2, 30, 30, 64)    256       \n",
      " hNormalization)                                                 \n",
      "                                                                 \n",
      " activation_2 (Activation)   (None, 2, 30, 30, 64)     0         \n",
      "                                                                 \n",
      " max_pooling3d_2 (MaxPooling  (None, 1, 15, 15, 64)    0         \n",
      " 3D)                                                             \n",
      "                                                                 \n",
      " conv3d_3 (Conv3D)           (None, 1, 15, 15, 128)    65664     \n",
      "                                                                 \n",
      " batch_normalization_3 (Batc  (None, 1, 15, 15, 128)   512       \n",
      " hNormalization)                                                 \n",
      "                                                                 \n",
      " activation_3 (Activation)   (None, 1, 15, 15, 128)    0         \n",
      "                                                                 \n",
      " flatten (Flatten)           (None, 28800)             0         \n",
      "                                                                 \n",
      " dense (Dense)               (None, 128)               3686528   \n",
      "                                                                 \n",
      " batch_normalization_4 (Batc  (None, 128)              512       \n",
      " hNormalization)                                                 \n",
      "                                                                 \n",
      " dropout (Dropout)           (None, 128)               0         \n",
      "                                                                 \n",
      " dense_1 (Dense)             (None, 128)               16512     \n",
      "                                                                 \n",
      " batch_normalization_5 (Batc  (None, 128)              512       \n",
      " hNormalization)                                                 \n",
      "                                                                 \n",
      " dropout_1 (Dropout)         (None, 128)               0         \n",
      "                                                                 \n",
      " dense_2 (Dense)             (None, 5)                 645       \n",
      "                                                                 \n",
      "=================================================================\n",
      "Total params: 3,793,221\n",
      "Trainable params: 3,792,229\n",
      "Non-trainable params: 992\n",
      "_________________________________________________________________\n",
      "None\n"
     ]
    },
    {
     "name": "stderr",
     "output_type": "stream",
     "text": [
      "2024-10-31 01:15:33.329810: W tensorflow/core/common_runtime/gpu/gpu_bfc_allocator.cc:39] Overriding allow_growth setting because the TF_FORCE_GPU_ALLOW_GROWTH environment variable is set. Original config value was 0.\n",
      "2024-10-31 01:15:33.329882: I tensorflow/core/common_runtime/gpu/gpu_device.cc:1525] Created device /job:localhost/replica:0/task:0/device:GPU:0 with 14800 MB memory:  -> device: 0, name: Quadro RTX 5000, pci bus id: 0000:3f:00.0, compute capability: 7.5\n"
     ]
    }
   ],
   "source": [
    "model_conv3d = Sequential()\n",
    "\n",
    "model_conv3d.add(Conv3D(16, (3, 3, 3), padding='same',input_shape=(frames,rows,cols,channel)))\n",
    "model_conv3d.add(BatchNormalization())\n",
    "model_conv3d.add(Activation('relu'))\n",
    "\n",
    "model_conv3d.add(MaxPooling3D(pool_size=(2,2,2)))\n",
    "\n",
    "model_conv3d.add(Conv3D(32, (2, 2, 2), padding='same'))\n",
    "model_conv3d.add(BatchNormalization())\n",
    "model_conv3d.add(Activation('relu'))\n",
    "\n",
    "model_conv3d.add(MaxPooling3D(pool_size=(2,2,2)))\n",
    "\n",
    "model_conv3d.add(Conv3D(64, (2, 2, 2), padding='same'))\n",
    "model_conv3d.add(BatchNormalization())\n",
    "model_conv3d.add(Activation('relu'))\n",
    "\n",
    "model_conv3d.add(MaxPooling3D(pool_size=(2,2,2)))\n",
    "\n",
    "model_conv3d.add(Conv3D(128, (2, 2, 2), padding='same'))\n",
    "model_conv3d.add(BatchNormalization())\n",
    "model_conv3d.add(Activation('relu'))\n",
    "\n",
    "#Flatten Layers\n",
    "model_conv3d.add(Flatten())\n",
    "\n",
    "model_conv3d.add(Dense(128, activation='relu'))\n",
    "model_conv3d.add(BatchNormalization())\n",
    "model_conv3d.add(Dropout(0.5))\n",
    "model_conv3d.add(Dense(128, activation='relu'))\n",
    "model_conv3d.add(BatchNormalization())\n",
    "model_conv3d.add(Dropout(0.25))\n",
    "\n",
    "#softmax layer\n",
    "model_conv3d.add(Dense(5, activation='softmax'))\n",
    "optimiser = optimizers.Adam() #write your optimizer\n",
    "model_conv3d.compile(optimizer=optimiser, loss='categorical_crossentropy', metrics=['categorical_accuracy'])\n",
    "print (model_conv3d.summary())"
   ]
  },
  {
   "cell_type": "markdown",
   "metadata": {
    "id": "6Zy8lp7N7xoC"
   },
   "source": [
    "Now that you have written the model, the next step is to `compile` the model. When you print the `summary` of the model, you'll see the total number of parameters you have to train."
   ]
  },
  {
   "cell_type": "markdown",
   "metadata": {
    "id": "HBwab1N17xoC"
   },
   "source": [
    "Let us create the `train_generator` and the `val_generator` which will be used in `.fit_generator`."
   ]
  },
  {
   "cell_type": "code",
   "execution_count": 12,
   "metadata": {
    "executionInfo": {
     "elapsed": 6,
     "status": "ok",
     "timestamp": 1730336226754,
     "user": {
      "displayName": "Pavani Rao",
      "userId": "14862063163482163309"
     },
     "user_tz": -330
    },
    "id": "wUwBWFKA7xoD"
   },
   "outputs": [],
   "source": [
    "train_generator = generator(train_path, train_doc, batch_size)\n",
    "val_generator = generator(val_path, val_doc, batch_size)"
   ]
  },
  {
   "cell_type": "code",
   "execution_count": 13,
   "metadata": {
    "executionInfo": {
     "elapsed": 5,
     "status": "ok",
     "timestamp": 1730336226754,
     "user": {
      "displayName": "Pavani Rao",
      "userId": "14862063163482163309"
     },
     "user_tz": -330
    },
    "id": "btgjW_GM7xoD"
   },
   "outputs": [],
   "source": [
    "model_name = 'model_init' + '_' + str(curr_dt_time).replace(' ','').replace(':','_') + '/'\n",
    "\n",
    "if not os.path.exists(model_name):\n",
    "    os.mkdir(model_name)\n",
    "\n",
    "filepath = model_name + 'model-{epoch:05d}-{loss:.5f}-{categorical_accuracy:.5f}-{val_loss:.5f}-{val_categorical_accuracy:.5f}.keras'\n",
    "\n",
    "checkpoint = ModelCheckpoint(filepath, monitor='val_loss', verbose=1, save_best_only=True, save_weights_only=False, mode='auto')\n",
    "\n",
    "LR = ReduceLROnPlateau(monitor='val_loss', factor=0.2, patience=1, min_lr=0.0001)\n",
    "callbacks_list = [checkpoint, LR]"
   ]
  },
  {
   "cell_type": "markdown",
   "metadata": {
    "id": "jdCixjvz7xoD"
   },
   "source": [
    "The `steps_per_epoch` and `validation_steps` are used by `fit_generator` to decide the number of next() calls it need to make."
   ]
  },
  {
   "cell_type": "code",
   "execution_count": 14,
   "metadata": {
    "executionInfo": {
     "elapsed": 5,
     "status": "ok",
     "timestamp": 1730336226754,
     "user": {
      "displayName": "Pavani Rao",
      "userId": "14862063163482163309"
     },
     "user_tz": -330
    },
    "id": "gL_rSLlX7xoD"
   },
   "outputs": [],
   "source": [
    "if (num_train_sequences%batch_size) == 0:\n",
    "    steps_per_epoch = int(num_train_sequences/batch_size)\n",
    "else:\n",
    "    steps_per_epoch = (num_train_sequences//batch_size) + 1\n",
    "\n",
    "if (num_val_sequences%batch_size) == 0:\n",
    "    validation_steps = int(num_val_sequences/batch_size)\n",
    "else:\n",
    "    validation_steps = (num_val_sequences//batch_size) + 1"
   ]
  },
  {
   "cell_type": "markdown",
   "metadata": {
    "id": "8JppsYHH7xoD"
   },
   "source": [
    "Let us now fit the model. This will start training the model and with the help of the checkpoints, you'll be able to save the model at the end of each epoch."
   ]
  },
  {
   "cell_type": "code",
   "execution_count": 15,
   "metadata": {
    "colab": {
     "base_uri": "https://localhost:8080/",
     "height": 460
    },
    "executionInfo": {
     "elapsed": 549671,
     "status": "error",
     "timestamp": 1730336793083,
     "user": {
      "displayName": "Pavani Rao",
      "userId": "14862063163482163309"
     },
     "user_tz": -330
    },
    "id": "8SF4owO97xoD",
    "outputId": "b5b90125-77de-4f6a-f5ed-bdf9a8bfd18b"
   },
   "outputs": [
    {
     "name": "stdout",
     "output_type": "stream",
     "text": [
      "Source path =  /home/datasets/Project_data/train ; batch size = 10\n",
      "10\n",
      "Epoch 1/30\n"
     ]
    },
    {
     "name": "stderr",
     "output_type": "stream",
     "text": [
      "2024-10-31 01:16:01.433460: I tensorflow/stream_executor/cuda/cuda_dnn.cc:377] Loaded cuDNN version 8302\n"
     ]
    },
    {
     "name": "stdout",
     "output_type": "stream",
     "text": [
      "65/67 [============================>.] - ETA: 1s - loss: 1.6315 - categorical_accuracy: 0.3923Batch:  67 Index: 10\n",
      "67/67 [==============================] - ETA: 0s - loss: 1.6304 - categorical_accuracy: 0.3922Source path =  /home/datasets/Project_data/val ; batch size = 10\n",
      "10\n",
      "\n",
      "Epoch 00001: val_loss improved from inf to 3.60678, saving model to model_init_2024-10-3101_15_29.137681/model-00001-1.63037-0.39216-3.60678-0.16000.keras\n",
      "67/67 [==============================] - 74s 1s/step - loss: 1.6304 - categorical_accuracy: 0.3922 - val_loss: 3.6068 - val_categorical_accuracy: 0.1600 - lr: 0.0010\n",
      "Epoch 2/30\n",
      "67/67 [==============================] - ETA: 0s - loss: 1.9268 - categorical_accuracy: 0.2985\n",
      "Epoch 00002: val_loss improved from 3.60678 to 2.28436, saving model to model_init_2024-10-3101_15_29.137681/model-00002-1.92683-0.29851-2.28436-0.32000.keras\n",
      "67/67 [==============================] - 25s 375ms/step - loss: 1.9268 - categorical_accuracy: 0.2985 - val_loss: 2.2844 - val_categorical_accuracy: 0.3200 - lr: 0.0010\n",
      "Epoch 3/30\n",
      "67/67 [==============================] - ETA: 0s - loss: 1.9285 - categorical_accuracy: 0.3234\n",
      "Epoch 00003: val_loss did not improve from 2.28436\n",
      "67/67 [==============================] - 25s 378ms/step - loss: 1.9285 - categorical_accuracy: 0.3234 - val_loss: 2.7156 - val_categorical_accuracy: 0.2500 - lr: 0.0010\n",
      "Epoch 4/30\n",
      "67/67 [==============================] - ETA: 0s - loss: 1.8739 - categorical_accuracy: 0.2985\n",
      "Epoch 00004: val_loss improved from 2.28436 to 2.02432, saving model to model_init_2024-10-3101_15_29.137681/model-00004-1.87386-0.29851-2.02432-0.26000.keras\n",
      "67/67 [==============================] - 26s 390ms/step - loss: 1.8739 - categorical_accuracy: 0.2985 - val_loss: 2.0243 - val_categorical_accuracy: 0.2600 - lr: 2.0000e-04\n",
      "Epoch 5/30\n",
      "67/67 [==============================] - ETA: 0s - loss: 1.8473 - categorical_accuracy: 0.2637\n",
      "Epoch 00005: val_loss improved from 2.02432 to 1.97620, saving model to model_init_2024-10-3101_15_29.137681/model-00005-1.84734-0.26368-1.97620-0.28000.keras\n",
      "67/67 [==============================] - 24s 366ms/step - loss: 1.8473 - categorical_accuracy: 0.2637 - val_loss: 1.9762 - val_categorical_accuracy: 0.2800 - lr: 2.0000e-04\n",
      "Epoch 6/30\n",
      "67/67 [==============================] - ETA: 0s - loss: 1.7358 - categorical_accuracy: 0.2736\n",
      "Epoch 00006: val_loss did not improve from 1.97620\n",
      "67/67 [==============================] - 25s 379ms/step - loss: 1.7358 - categorical_accuracy: 0.2736 - val_loss: 2.0289 - val_categorical_accuracy: 0.2800 - lr: 2.0000e-04\n",
      "Epoch 7/30\n",
      "67/67 [==============================] - ETA: 0s - loss: 1.7783 - categorical_accuracy: 0.3035\n",
      "Epoch 00007: val_loss improved from 1.97620 to 1.70972, saving model to model_init_2024-10-3101_15_29.137681/model-00007-1.77834-0.30348-1.70972-0.28000.keras\n",
      "67/67 [==============================] - 24s 365ms/step - loss: 1.7783 - categorical_accuracy: 0.3035 - val_loss: 1.7097 - val_categorical_accuracy: 0.2800 - lr: 1.0000e-04\n",
      "Epoch 8/30\n",
      "67/67 [==============================] - ETA: 0s - loss: 1.6209 - categorical_accuracy: 0.3831\n",
      "Epoch 00008: val_loss improved from 1.70972 to 1.54368, saving model to model_init_2024-10-3101_15_29.137681/model-00008-1.62090-0.38308-1.54368-0.26000.keras\n",
      "67/67 [==============================] - 22s 340ms/step - loss: 1.6209 - categorical_accuracy: 0.3831 - val_loss: 1.5437 - val_categorical_accuracy: 0.2600 - lr: 1.0000e-04\n",
      "Epoch 9/30\n",
      "67/67 [==============================] - ETA: 0s - loss: 1.6580 - categorical_accuracy: 0.3184\n",
      "Epoch 00009: val_loss improved from 1.54368 to 1.37797, saving model to model_init_2024-10-3101_15_29.137681/model-00009-1.65803-0.31841-1.37797-0.42000.keras\n",
      "67/67 [==============================] - 23s 350ms/step - loss: 1.6580 - categorical_accuracy: 0.3184 - val_loss: 1.3780 - val_categorical_accuracy: 0.4200 - lr: 1.0000e-04\n",
      "Epoch 10/30\n",
      "67/67 [==============================] - ETA: 0s - loss: 1.6523 - categorical_accuracy: 0.3433\n",
      "Epoch 00010: val_loss did not improve from 1.37797\n",
      "67/67 [==============================] - 24s 364ms/step - loss: 1.6523 - categorical_accuracy: 0.3433 - val_loss: 1.3991 - val_categorical_accuracy: 0.3800 - lr: 1.0000e-04\n",
      "Epoch 11/30\n",
      "67/67 [==============================] - ETA: 0s - loss: 1.5777 - categorical_accuracy: 0.3781\n",
      "Epoch 00011: val_loss did not improve from 1.37797\n",
      "67/67 [==============================] - 24s 369ms/step - loss: 1.5777 - categorical_accuracy: 0.3781 - val_loss: 1.5169 - val_categorical_accuracy: 0.3100 - lr: 1.0000e-04\n",
      "Epoch 12/30\n",
      "67/67 [==============================] - ETA: 0s - loss: 1.5839 - categorical_accuracy: 0.3781\n",
      "Epoch 00012: val_loss improved from 1.37797 to 1.31300, saving model to model_init_2024-10-3101_15_29.137681/model-00012-1.58392-0.37811-1.31300-0.43000.keras\n",
      "67/67 [==============================] - 23s 346ms/step - loss: 1.5839 - categorical_accuracy: 0.3781 - val_loss: 1.3130 - val_categorical_accuracy: 0.4300 - lr: 1.0000e-04\n",
      "Epoch 13/30\n",
      "67/67 [==============================] - ETA: 0s - loss: 1.6385 - categorical_accuracy: 0.3184\n",
      "Epoch 00013: val_loss did not improve from 1.31300\n",
      "67/67 [==============================] - 26s 387ms/step - loss: 1.6385 - categorical_accuracy: 0.3184 - val_loss: 1.7870 - val_categorical_accuracy: 0.3900 - lr: 1.0000e-04\n",
      "Epoch 14/30\n",
      "67/67 [==============================] - ETA: 0s - loss: 1.5205 - categorical_accuracy: 0.3085\n",
      "Epoch 00014: val_loss did not improve from 1.31300\n",
      "67/67 [==============================] - 22s 338ms/step - loss: 1.5205 - categorical_accuracy: 0.3085 - val_loss: 1.3647 - val_categorical_accuracy: 0.4000 - lr: 1.0000e-04\n",
      "Epoch 15/30\n",
      "67/67 [==============================] - ETA: 0s - loss: 1.5622 - categorical_accuracy: 0.3632\n",
      "Epoch 00015: val_loss did not improve from 1.31300\n",
      "67/67 [==============================] - 23s 350ms/step - loss: 1.5622 - categorical_accuracy: 0.3632 - val_loss: 1.3635 - val_categorical_accuracy: 0.4100 - lr: 1.0000e-04\n",
      "Epoch 16/30\n",
      "67/67 [==============================] - ETA: 0s - loss: 1.5204 - categorical_accuracy: 0.4129\n",
      "Epoch 00016: val_loss did not improve from 1.31300\n",
      "67/67 [==============================] - 23s 354ms/step - loss: 1.5204 - categorical_accuracy: 0.4129 - val_loss: 1.4199 - val_categorical_accuracy: 0.4500 - lr: 1.0000e-04\n",
      "Epoch 17/30\n",
      "67/67 [==============================] - ETA: 0s - loss: 1.5926 - categorical_accuracy: 0.3433\n",
      "Epoch 00017: val_loss did not improve from 1.31300\n",
      "67/67 [==============================] - 25s 372ms/step - loss: 1.5926 - categorical_accuracy: 0.3433 - val_loss: 1.3273 - val_categorical_accuracy: 0.4600 - lr: 1.0000e-04\n",
      "Epoch 18/30\n",
      "67/67 [==============================] - ETA: 0s - loss: 1.5139 - categorical_accuracy: 0.3483\n",
      "Epoch 00018: val_loss did not improve from 1.31300\n",
      "67/67 [==============================] - 24s 356ms/step - loss: 1.5139 - categorical_accuracy: 0.3483 - val_loss: 1.4020 - val_categorical_accuracy: 0.4000 - lr: 1.0000e-04\n",
      "Epoch 19/30\n",
      "67/67 [==============================] - ETA: 0s - loss: 1.6342 - categorical_accuracy: 0.3284\n",
      "Epoch 00019: val_loss did not improve from 1.31300\n",
      "67/67 [==============================] - 24s 364ms/step - loss: 1.6342 - categorical_accuracy: 0.3284 - val_loss: 1.3787 - val_categorical_accuracy: 0.4000 - lr: 1.0000e-04\n",
      "Epoch 20/30\n",
      "67/67 [==============================] - ETA: 0s - loss: 1.5609 - categorical_accuracy: 0.3632\n",
      "Epoch 00020: val_loss improved from 1.31300 to 1.25985, saving model to model_init_2024-10-3101_15_29.137681/model-00020-1.56090-0.36318-1.25985-0.45000.keras\n",
      "67/67 [==============================] - 24s 359ms/step - loss: 1.5609 - categorical_accuracy: 0.3632 - val_loss: 1.2598 - val_categorical_accuracy: 0.4500 - lr: 1.0000e-04\n",
      "Epoch 21/30\n",
      "67/67 [==============================] - ETA: 0s - loss: 1.4883 - categorical_accuracy: 0.4129\n",
      "Epoch 00021: val_loss did not improve from 1.25985\n",
      "67/67 [==============================] - 24s 358ms/step - loss: 1.4883 - categorical_accuracy: 0.4129 - val_loss: 1.2934 - val_categorical_accuracy: 0.4100 - lr: 1.0000e-04\n",
      "Epoch 22/30\n",
      "67/67 [==============================] - ETA: 0s - loss: 1.4383 - categorical_accuracy: 0.3483\n",
      "Epoch 00022: val_loss did not improve from 1.25985\n",
      "67/67 [==============================] - 24s 358ms/step - loss: 1.4383 - categorical_accuracy: 0.3483 - val_loss: 1.3266 - val_categorical_accuracy: 0.4800 - lr: 1.0000e-04\n",
      "Epoch 23/30\n",
      "67/67 [==============================] - ETA: 0s - loss: 1.4642 - categorical_accuracy: 0.3980\n",
      "Epoch 00023: val_loss did not improve from 1.25985\n",
      "67/67 [==============================] - 24s 356ms/step - loss: 1.4642 - categorical_accuracy: 0.3980 - val_loss: 1.5435 - val_categorical_accuracy: 0.4100 - lr: 1.0000e-04\n",
      "Epoch 24/30\n",
      "67/67 [==============================] - ETA: 0s - loss: 1.6932 - categorical_accuracy: 0.3085\n",
      "Epoch 00024: val_loss did not improve from 1.25985\n",
      "67/67 [==============================] - 23s 355ms/step - loss: 1.6932 - categorical_accuracy: 0.3085 - val_loss: 1.3584 - val_categorical_accuracy: 0.4400 - lr: 1.0000e-04\n",
      "Epoch 25/30\n",
      "67/67 [==============================] - ETA: 0s - loss: 1.5531 - categorical_accuracy: 0.3781\n",
      "Epoch 00025: val_loss did not improve from 1.25985\n",
      "67/67 [==============================] - 23s 351ms/step - loss: 1.5531 - categorical_accuracy: 0.3781 - val_loss: 1.3507 - val_categorical_accuracy: 0.4600 - lr: 1.0000e-04\n",
      "Epoch 26/30\n",
      "67/67 [==============================] - ETA: 0s - loss: 1.5710 - categorical_accuracy: 0.3930\n",
      "Epoch 00026: val_loss improved from 1.25985 to 1.25191, saving model to model_init_2024-10-3101_15_29.137681/model-00026-1.57102-0.39303-1.25191-0.47000.keras\n",
      "67/67 [==============================] - 22s 331ms/step - loss: 1.5710 - categorical_accuracy: 0.3930 - val_loss: 1.2519 - val_categorical_accuracy: 0.4700 - lr: 1.0000e-04\n",
      "Epoch 27/30\n",
      "67/67 [==============================] - ETA: 0s - loss: 1.6174 - categorical_accuracy: 0.3532\n",
      "Epoch 00027: val_loss improved from 1.25191 to 1.23297, saving model to model_init_2024-10-3101_15_29.137681/model-00027-1.61739-0.35323-1.23297-0.50000.keras\n",
      "67/67 [==============================] - 24s 367ms/step - loss: 1.6174 - categorical_accuracy: 0.3532 - val_loss: 1.2330 - val_categorical_accuracy: 0.5000 - lr: 1.0000e-04\n",
      "Epoch 28/30\n",
      "67/67 [==============================] - ETA: 0s - loss: 1.6117 - categorical_accuracy: 0.3035\n",
      "Epoch 00028: val_loss did not improve from 1.23297\n",
      "67/67 [==============================] - 23s 352ms/step - loss: 1.6117 - categorical_accuracy: 0.3035 - val_loss: 1.3135 - val_categorical_accuracy: 0.5500 - lr: 1.0000e-04\n",
      "Epoch 29/30\n",
      "67/67 [==============================] - ETA: 0s - loss: 1.5160 - categorical_accuracy: 0.4030\n",
      "Epoch 00029: val_loss did not improve from 1.23297\n",
      "67/67 [==============================] - 23s 347ms/step - loss: 1.5160 - categorical_accuracy: 0.4030 - val_loss: 1.2374 - val_categorical_accuracy: 0.5100 - lr: 1.0000e-04\n",
      "Epoch 30/30\n",
      "67/67 [==============================] - ETA: 0s - loss: 1.4426 - categorical_accuracy: 0.4080\n",
      "Epoch 00030: val_loss did not improve from 1.23297\n",
      "67/67 [==============================] - 23s 351ms/step - loss: 1.4426 - categorical_accuracy: 0.4080 - val_loss: 1.2606 - val_categorical_accuracy: 0.4600 - lr: 1.0000e-04\n"
     ]
    }
   ],
   "source": [
    "history_conv3d = model_conv3d.fit(train_generator, steps_per_epoch=steps_per_epoch, epochs=num_epochs, verbose=1,\n",
    "                    callbacks=callbacks_list, validation_data=val_generator,\n",
    "                    validation_steps=validation_steps, class_weight=None, initial_epoch=0)"
   ]
  },
  {
   "cell_type": "code",
   "execution_count": 16,
   "metadata": {
    "executionInfo": {
     "elapsed": 4,
     "status": "ok",
     "timestamp": 1730336226754,
     "user": {
      "displayName": "Pavani Rao",
      "userId": "14862063163482163309"
     },
     "user_tz": -330
    },
    "id": "7F2a6TIw7xoE"
   },
   "outputs": [
    {
     "data": {
      "image/png": "[encoded data removed]",
      "text/plain": [
       "<Figure size 576x576 with 2 Axes>"
      ]
     },
     "metadata": {
      "needs_background": "light"
     },
     "output_type": "display_data"
    }
   ],
   "source": [
    "plot(history_conv3d)"
   ]
  },
  {
   "cell_type": "markdown",
   "metadata": {},
   "source": [
    "# 2.Conv2D + GRU"
   ]
  },
  {
   "cell_type": "code",
   "execution_count": 17,
   "metadata": {},
   "outputs": [
    {
     "name": "stdout",
     "output_type": "stream",
     "text": [
      "Model: \"sequential_1\"\n",
      "_________________________________________________________________\n",
      " Layer (type)                Output Shape              Param #   \n",
      "=================================================================\n",
      " time_distributed (TimeDistr  (None, 10, 120, 120, 16)  448      \n",
      " ibuted)                                                         \n",
      "                                                                 \n",
      " time_distributed_1 (TimeDis  (None, 10, 120, 120, 16)  64       \n",
      " tributed)                                                       \n",
      "                                                                 \n",
      " dropout_2 (Dropout)         (None, 10, 120, 120, 16)  0         \n",
      "                                                                 \n",
      " time_distributed_2 (TimeDis  (None, 10, 60, 60, 16)   0         \n",
      " tributed)                                                       \n",
      "                                                                 \n",
      " time_distributed_3 (TimeDis  (None, 10, 60, 60, 16)   2320      \n",
      " tributed)                                                       \n",
      "                                                                 \n",
      " time_distributed_4 (TimeDis  (None, 10, 60, 60, 16)   64        \n",
      " tributed)                                                       \n",
      "                                                                 \n",
      " dropout_3 (Dropout)         (None, 10, 60, 60, 16)    0         \n",
      "                                                                 \n",
      " time_distributed_5 (TimeDis  (None, 10, 30, 30, 16)   0         \n",
      " tributed)                                                       \n",
      "                                                                 \n",
      " time_distributed_6 (TimeDis  (None, 10, 30, 30, 32)   4640      \n",
      " tributed)                                                       \n",
      "                                                                 \n",
      " time_distributed_7 (TimeDis  (None, 10, 30, 30, 32)   128       \n",
      " tributed)                                                       \n",
      "                                                                 \n",
      " dropout_4 (Dropout)         (None, 10, 30, 30, 32)    0         \n",
      "                                                                 \n",
      " time_distributed_8 (TimeDis  (None, 10, 15, 15, 32)   0         \n",
      " tributed)                                                       \n",
      "                                                                 \n",
      " time_distributed_9 (TimeDis  (None, 10, 15, 15, 32)   9248      \n",
      " tributed)                                                       \n",
      "                                                                 \n",
      " time_distributed_10 (TimeDi  (None, 10, 15, 15, 32)   128       \n",
      " stributed)                                                      \n",
      "                                                                 \n",
      " dropout_5 (Dropout)         (None, 10, 15, 15, 32)    0         \n",
      "                                                                 \n",
      " time_distributed_11 (TimeDi  (None, 10, 7, 7, 32)     0         \n",
      " stributed)                                                      \n",
      "                                                                 \n",
      " time_distributed_12 (TimeDi  (None, 10, 7, 7, 64)     18496     \n",
      " stributed)                                                      \n",
      "                                                                 \n",
      " time_distributed_13 (TimeDi  (None, 10, 7, 7, 64)     256       \n",
      " stributed)                                                      \n",
      "                                                                 \n",
      " dropout_6 (Dropout)         (None, 10, 7, 7, 64)      0         \n",
      "                                                                 \n",
      " time_distributed_14 (TimeDi  (None, 10, 3, 3, 64)     0         \n",
      " stributed)                                                      \n",
      "                                                                 \n",
      " time_distributed_15 (TimeDi  (None, 10, 3, 3, 64)     36928     \n",
      " stributed)                                                      \n",
      "                                                                 \n",
      " time_distributed_16 (TimeDi  (None, 10, 3, 3, 64)     256       \n",
      " stributed)                                                      \n",
      "                                                                 \n",
      " dropout_7 (Dropout)         (None, 10, 3, 3, 64)      0         \n",
      "                                                                 \n",
      " time_distributed_17 (TimeDi  (None, 10, 1, 1, 64)     0         \n",
      " stributed)                                                      \n",
      "                                                                 \n",
      " time_distributed_18 (TimeDi  (None, 10, 1, 1, 128)    73856     \n",
      " stributed)                                                      \n",
      "                                                                 \n",
      " time_distributed_19 (TimeDi  (None, 10, 1, 1, 128)    512       \n",
      " stributed)                                                      \n",
      "                                                                 \n",
      " dropout_8 (Dropout)         (None, 10, 1, 1, 128)     0         \n",
      "                                                                 \n",
      " time_distributed_20 (TimeDi  (None, 10, 1, 1, 128)    147584    \n",
      " stributed)                                                      \n",
      "                                                                 \n",
      " time_distributed_21 (TimeDi  (None, 10, 1, 1, 128)    512       \n",
      " stributed)                                                      \n",
      "                                                                 \n",
      " dropout_9 (Dropout)         (None, 10, 1, 1, 128)     0         \n",
      "                                                                 \n",
      " time_distributed_22 (TimeDi  (None, 10, 128)          0         \n",
      " stributed)                                                      \n",
      "                                                                 \n",
      " gru (GRU)                   (None, 128)               99072     \n",
      "                                                                 \n",
      " dropout_10 (Dropout)        (None, 128)               0         \n",
      "                                                                 \n",
      " dense_3 (Dense)             (None, 128)               16512     \n",
      "                                                                 \n",
      " batch_normalization_14 (Bat  (None, 128)              512       \n",
      " chNormalization)                                                \n",
      "                                                                 \n",
      " dropout_11 (Dropout)        (None, 128)               0         \n",
      "                                                                 \n",
      " dense_4 (Dense)             (None, 64)                8256      \n",
      "                                                                 \n",
      " dropout_12 (Dropout)        (None, 64)                0         \n",
      "                                                                 \n",
      " dense_5 (Dense)             (None, 5)                 325       \n",
      "                                                                 \n",
      "=================================================================\n",
      "Total params: 420,117\n",
      "Trainable params: 418,901\n",
      "Non-trainable params: 1,216\n",
      "_________________________________________________________________\n",
      "None\n"
     ]
    }
   ],
   "source": [
    "model_Conv2DGRU = Sequential()\n",
    "\n",
    "model_Conv2DGRU.add(TimeDistributed(Conv2D(16, (3, 3) , padding='same', activation='relu'),\n",
    "                          input_shape=(frames,rows,cols,channel)))\n",
    "model_Conv2DGRU.add(TimeDistributed(BatchNormalization()))\n",
    "model_Conv2DGRU.add(Dropout(0.25))\n",
    "model_Conv2DGRU.add(TimeDistributed(MaxPooling2D((2, 2))))\n",
    "\n",
    "model_Conv2DGRU.add(TimeDistributed(Conv2D(16, (3, 3) , padding='same', activation='relu'),\n",
    "                          input_shape=(frames,rows,cols,channel)))\n",
    "model_Conv2DGRU.add(TimeDistributed(BatchNormalization()))\n",
    "model_Conv2DGRU.add(Dropout(0.25))\n",
    "model_Conv2DGRU.add(TimeDistributed(MaxPooling2D((2, 2))))\n",
    "\n",
    "model_Conv2DGRU.add(TimeDistributed(Conv2D(32, (3, 3) , padding='same', activation='relu')))\n",
    "model_Conv2DGRU.add(TimeDistributed(BatchNormalization()))\n",
    "model_Conv2DGRU.add(Dropout(0.25))\n",
    "model_Conv2DGRU.add(TimeDistributed(MaxPooling2D((2, 2))))\n",
    "\n",
    "model_Conv2DGRU.add(TimeDistributed(Conv2D(32, (3, 3) , padding='same', activation='relu')))\n",
    "model_Conv2DGRU.add(TimeDistributed(BatchNormalization()))\n",
    "model_Conv2DGRU.add(Dropout(0.25))\n",
    "model_Conv2DGRU.add(TimeDistributed(MaxPooling2D((2, 2))))\n",
    "\n",
    "model_Conv2DGRU.add(TimeDistributed(Conv2D(64, (3, 3) , padding='same', activation='relu')))\n",
    "model_Conv2DGRU.add(TimeDistributed(BatchNormalization()))\n",
    "model_Conv2DGRU.add(Dropout(0.25))\n",
    "model_Conv2DGRU.add(TimeDistributed(MaxPooling2D((2, 2))))\n",
    "\n",
    "model_Conv2DGRU.add(TimeDistributed(Conv2D(64, (3, 3) , padding='same', activation='relu')))\n",
    "model_Conv2DGRU.add(TimeDistributed(BatchNormalization()))\n",
    "model_Conv2DGRU.add(Dropout(0.25))\n",
    "model_Conv2DGRU.add(TimeDistributed(MaxPooling2D((2, 2))))\n",
    "\n",
    "model_Conv2DGRU.add(TimeDistributed(Conv2D(128, (3, 3) , padding='same', activation='relu')))\n",
    "model_Conv2DGRU.add(TimeDistributed(BatchNormalization()))\n",
    "model_Conv2DGRU.add(Dropout(0.25))\n",
    "\n",
    "model_Conv2DGRU.add(TimeDistributed(Conv2D(128, (3, 3) , padding='same', activation='relu')))\n",
    "model_Conv2DGRU.add(TimeDistributed(BatchNormalization()))\n",
    "model_Conv2DGRU.add(Dropout(0.25))\n",
    "\n",
    "model_Conv2DGRU.add(TimeDistributed(Flatten()))\n",
    "\n",
    "model_Conv2DGRU.add(GRU(128,kernel_regularizer=l2(0.01)))\n",
    "model_Conv2DGRU.add(Dropout(0.2))\n",
    "\n",
    "model_Conv2DGRU.add(Dense(128,activation='relu'))\n",
    "model_Conv2DGRU.add(BatchNormalization())\n",
    "model_Conv2DGRU.add(Dropout(0.5))\n",
    "model_Conv2DGRU.add(Dense(64,activation='relu'))\n",
    "model_Conv2DGRU.add(Dropout(0.25))\n",
    "#model_Conv2DGRU.add(Dense(1, activation='sigmoid'))\n",
    "\n",
    "model_Conv2DGRU.add(Dense(5, activation='softmax'))\n",
    "optimiser = optimizers.Adam()\n",
    "model_Conv2DGRU.compile(optimizer=optimiser, loss='categorical_crossentropy', metrics=['categorical_accuracy'])\n",
    "print (model_Conv2DGRU.summary())"
   ]
  },
  {
   "cell_type": "code",
   "execution_count": 18,
   "metadata": {},
   "outputs": [
    {
     "name": "stdout",
     "output_type": "stream",
     "text": [
      "Epoch 1/30\n",
      "67/67 [==============================] - ETA: 0s - loss: 4.3038 - categorical_accuracy: 0.2338\n",
      "Epoch 00001: val_loss did not improve from 1.23297\n",
      "67/67 [==============================] - 27s 357ms/step - loss: 4.3038 - categorical_accuracy: 0.2338 - val_loss: 3.3677 - val_categorical_accuracy: 0.2100 - lr: 0.0010\n",
      "Epoch 2/30\n",
      "67/67 [==============================] - ETA: 0s - loss: 3.8033 - categorical_accuracy: 0.2537\n",
      "Epoch 00002: val_loss did not improve from 1.23297\n",
      "67/67 [==============================] - 23s 349ms/step - loss: 3.8033 - categorical_accuracy: 0.2537 - val_loss: 3.3670 - val_categorical_accuracy: 0.1600 - lr: 0.0010\n",
      "Epoch 3/30\n",
      "67/67 [==============================] - ETA: 0s - loss: 3.4288 - categorical_accuracy: 0.2687\n",
      "Epoch 00003: val_loss did not improve from 1.23297\n",
      "67/67 [==============================] - 23s 354ms/step - loss: 3.4288 - categorical_accuracy: 0.2687 - val_loss: 3.6161 - val_categorical_accuracy: 0.2100 - lr: 0.0010\n",
      "Epoch 4/30\n",
      "67/67 [==============================] - ETA: 0s - loss: 3.5503 - categorical_accuracy: 0.2537\n",
      "Epoch 00004: val_loss did not improve from 1.23297\n",
      "67/67 [==============================] - 23s 343ms/step - loss: 3.5503 - categorical_accuracy: 0.2537 - val_loss: 3.8163 - val_categorical_accuracy: 0.2100 - lr: 2.0000e-04\n",
      "Epoch 5/30\n",
      "67/67 [==============================] - ETA: 0s - loss: 3.3312 - categorical_accuracy: 0.2736\n",
      "Epoch 00005: val_loss did not improve from 1.23297\n",
      "67/67 [==============================] - 22s 340ms/step - loss: 3.3312 - categorical_accuracy: 0.2736 - val_loss: 3.8336 - val_categorical_accuracy: 0.2200 - lr: 1.0000e-04\n",
      "Epoch 6/30\n",
      "67/67 [==============================] - ETA: 0s - loss: 3.3942 - categorical_accuracy: 0.2438\n",
      "Epoch 00006: val_loss did not improve from 1.23297\n",
      "67/67 [==============================] - 23s 346ms/step - loss: 3.3942 - categorical_accuracy: 0.2438 - val_loss: 3.9585 - val_categorical_accuracy: 0.2200 - lr: 1.0000e-04\n",
      "Epoch 7/30\n",
      "67/67 [==============================] - ETA: 0s - loss: 3.5517 - categorical_accuracy: 0.2189\n",
      "Epoch 00007: val_loss did not improve from 1.23297\n",
      "67/67 [==============================] - 24s 357ms/step - loss: 3.5517 - categorical_accuracy: 0.2189 - val_loss: 3.9653 - val_categorical_accuracy: 0.2200 - lr: 1.0000e-04\n",
      "Epoch 8/30\n",
      "67/67 [==============================] - ETA: 0s - loss: 3.3679 - categorical_accuracy: 0.2786\n",
      "Epoch 00008: val_loss did not improve from 1.23297\n",
      "67/67 [==============================] - 23s 355ms/step - loss: 3.3679 - categorical_accuracy: 0.2786 - val_loss: 3.9740 - val_categorical_accuracy: 0.2300 - lr: 1.0000e-04\n",
      "Epoch 9/30\n",
      "67/67 [==============================] - ETA: 0s - loss: 3.3994 - categorical_accuracy: 0.2736\n",
      "Epoch 00009: val_loss did not improve from 1.23297\n",
      "67/67 [==============================] - 22s 339ms/step - loss: 3.3994 - categorical_accuracy: 0.2736 - val_loss: 3.8095 - val_categorical_accuracy: 0.1800 - lr: 1.0000e-04\n",
      "Epoch 10/30\n",
      "67/67 [==============================] - ETA: 0s - loss: 3.4425 - categorical_accuracy: 0.2637\n",
      "Epoch 00010: val_loss did not improve from 1.23297\n",
      "67/67 [==============================] - 24s 358ms/step - loss: 3.4425 - categorical_accuracy: 0.2637 - val_loss: 3.7159 - val_categorical_accuracy: 0.2000 - lr: 1.0000e-04\n",
      "Epoch 11/30\n",
      "67/67 [==============================] - ETA: 0s - loss: 3.2760 - categorical_accuracy: 0.3134\n",
      "Epoch 00011: val_loss did not improve from 1.23297\n",
      "67/67 [==============================] - 23s 350ms/step - loss: 3.2760 - categorical_accuracy: 0.3134 - val_loss: 3.6735 - val_categorical_accuracy: 0.2300 - lr: 1.0000e-04\n",
      "Epoch 12/30\n",
      "67/67 [==============================] - ETA: 0s - loss: 3.3997 - categorical_accuracy: 0.2139\n",
      "Epoch 00012: val_loss did not improve from 1.23297\n",
      "67/67 [==============================] - 23s 349ms/step - loss: 3.3997 - categorical_accuracy: 0.2139 - val_loss: 3.6497 - val_categorical_accuracy: 0.2000 - lr: 1.0000e-04\n",
      "Epoch 13/30\n",
      "67/67 [==============================] - ETA: 0s - loss: 3.3271 - categorical_accuracy: 0.2687\n",
      "Epoch 00013: val_loss did not improve from 1.23297\n",
      "67/67 [==============================] - 23s 351ms/step - loss: 3.3271 - categorical_accuracy: 0.2687 - val_loss: 3.7144 - val_categorical_accuracy: 0.2200 - lr: 1.0000e-04\n",
      "Epoch 14/30\n",
      "67/67 [==============================] - ETA: 0s - loss: 3.1986 - categorical_accuracy: 0.3284\n",
      "Epoch 00014: val_loss did not improve from 1.23297\n",
      "67/67 [==============================] - 23s 343ms/step - loss: 3.1986 - categorical_accuracy: 0.3284 - val_loss: 3.7950 - val_categorical_accuracy: 0.2200 - lr: 1.0000e-04\n",
      "Epoch 15/30\n",
      "67/67 [==============================] - ETA: 0s - loss: 3.1740 - categorical_accuracy: 0.2985\n",
      "Epoch 00015: val_loss did not improve from 1.23297\n",
      "67/67 [==============================] - 23s 345ms/step - loss: 3.1740 - categorical_accuracy: 0.2985 - val_loss: 3.7532 - val_categorical_accuracy: 0.2300 - lr: 1.0000e-04\n",
      "Epoch 16/30\n",
      "67/67 [==============================] - ETA: 0s - loss: 3.2426 - categorical_accuracy: 0.2587\n",
      "Epoch 00016: val_loss did not improve from 1.23297\n",
      "67/67 [==============================] - 24s 366ms/step - loss: 3.2426 - categorical_accuracy: 0.2587 - val_loss: 3.6437 - val_categorical_accuracy: 0.2300 - lr: 1.0000e-04\n",
      "Epoch 17/30\n",
      "67/67 [==============================] - ETA: 0s - loss: 3.1176 - categorical_accuracy: 0.3085\n",
      "Epoch 00017: val_loss did not improve from 1.23297\n",
      "67/67 [==============================] - 23s 354ms/step - loss: 3.1176 - categorical_accuracy: 0.3085 - val_loss: 3.8258 - val_categorical_accuracy: 0.2400 - lr: 1.0000e-04\n",
      "Epoch 18/30\n",
      "67/67 [==============================] - ETA: 0s - loss: 3.2211 - categorical_accuracy: 0.3134\n",
      "Epoch 00018: val_loss did not improve from 1.23297\n",
      "67/67 [==============================] - 23s 353ms/step - loss: 3.2211 - categorical_accuracy: 0.3134 - val_loss: 3.6769 - val_categorical_accuracy: 0.2300 - lr: 1.0000e-04\n",
      "Epoch 19/30\n",
      "67/67 [==============================] - ETA: 0s - loss: 3.0281 - categorical_accuracy: 0.3184\n",
      "Epoch 00019: val_loss did not improve from 1.23297\n",
      "67/67 [==============================] - 24s 365ms/step - loss: 3.0281 - categorical_accuracy: 0.3184 - val_loss: 3.6908 - val_categorical_accuracy: 0.2600 - lr: 1.0000e-04\n",
      "Epoch 20/30\n",
      "67/67 [==============================] - ETA: 0s - loss: 3.0882 - categorical_accuracy: 0.2736\n",
      "Epoch 00020: val_loss did not improve from 1.23297\n",
      "67/67 [==============================] - 23s 347ms/step - loss: 3.0882 - categorical_accuracy: 0.2736 - val_loss: 3.7710 - val_categorical_accuracy: 0.2300 - lr: 1.0000e-04\n",
      "Epoch 21/30\n",
      "67/67 [==============================] - ETA: 0s - loss: 3.1528 - categorical_accuracy: 0.2786\n",
      "Epoch 00021: val_loss did not improve from 1.23297\n",
      "67/67 [==============================] - 23s 344ms/step - loss: 3.1528 - categorical_accuracy: 0.2786 - val_loss: 3.7539 - val_categorical_accuracy: 0.2200 - lr: 1.0000e-04\n",
      "Epoch 22/30\n",
      "67/67 [==============================] - ETA: 0s - loss: 3.0696 - categorical_accuracy: 0.2886\n",
      "Epoch 00022: val_loss did not improve from 1.23297\n",
      "67/67 [==============================] - 23s 348ms/step - loss: 3.0696 - categorical_accuracy: 0.2886 - val_loss: 3.8496 - val_categorical_accuracy: 0.2400 - lr: 1.0000e-04\n",
      "Epoch 23/30\n",
      "67/67 [==============================] - ETA: 0s - loss: 3.0501 - categorical_accuracy: 0.3134\n",
      "Epoch 00023: val_loss did not improve from 1.23297\n",
      "67/67 [==============================] - 23s 343ms/step - loss: 3.0501 - categorical_accuracy: 0.3134 - val_loss: 3.6956 - val_categorical_accuracy: 0.2300 - lr: 1.0000e-04\n",
      "Epoch 24/30\n",
      "66/67 [============================>.] - ETA: 0s - loss: 3.0338 - categorical_accuracy: 0.3485\n",
      "Epoch 00024: val_loss did not improve from 1.23297\n",
      "67/67 [==============================] - 24s 364ms/step - loss: 3.0271 - categorical_accuracy: 0.3483 - val_loss: 3.6852 - val_categorical_accuracy: 0.2200 - lr: 1.0000e-04\n",
      "Epoch 25/30\n",
      "67/67 [==============================] - ETA: 0s - loss: 3.2466 - categorical_accuracy: 0.2388\n",
      "Epoch 00025: val_loss did not improve from 1.23297\n",
      "67/67 [==============================] - 24s 365ms/step - loss: 3.2466 - categorical_accuracy: 0.2388 - val_loss: 3.5801 - val_categorical_accuracy: 0.2000 - lr: 1.0000e-04\n",
      "Epoch 26/30\n",
      "67/67 [==============================] - ETA: 0s - loss: 3.2425 - categorical_accuracy: 0.2438\n",
      "Epoch 00026: val_loss did not improve from 1.23297\n",
      "67/67 [==============================] - 24s 359ms/step - loss: 3.2425 - categorical_accuracy: 0.2438 - val_loss: 3.7464 - val_categorical_accuracy: 0.1900 - lr: 1.0000e-04\n",
      "Epoch 27/30\n",
      "67/67 [==============================] - ETA: 0s - loss: 3.0154 - categorical_accuracy: 0.3333\n",
      "Epoch 00027: val_loss did not improve from 1.23297\n",
      "67/67 [==============================] - 22s 335ms/step - loss: 3.0154 - categorical_accuracy: 0.3333 - val_loss: 3.8077 - val_categorical_accuracy: 0.2200 - lr: 1.0000e-04\n",
      "Epoch 28/30\n",
      "67/67 [==============================] - ETA: 0s - loss: 3.1375 - categorical_accuracy: 0.2637\n",
      "Epoch 00028: val_loss did not improve from 1.23297\n",
      "67/67 [==============================] - 22s 329ms/step - loss: 3.1375 - categorical_accuracy: 0.2637 - val_loss: 3.7386 - val_categorical_accuracy: 0.2100 - lr: 1.0000e-04\n",
      "Epoch 29/30\n",
      "67/67 [==============================] - ETA: 0s - loss: 3.0323 - categorical_accuracy: 0.2786\n",
      "Epoch 00029: val_loss did not improve from 1.23297\n",
      "67/67 [==============================] - 22s 333ms/step - loss: 3.0323 - categorical_accuracy: 0.2786 - val_loss: 3.8055 - val_categorical_accuracy: 0.2400 - lr: 1.0000e-04\n",
      "Epoch 30/30\n",
      "67/67 [==============================] - ETA: 0s - loss: 2.9485 - categorical_accuracy: 0.3035\n",
      "Epoch 00030: val_loss did not improve from 1.23297\n",
      "67/67 [==============================] - 23s 354ms/step - loss: 2.9485 - categorical_accuracy: 0.3035 - val_loss: 3.7655 - val_categorical_accuracy: 0.2500 - lr: 1.0000e-04\n"
     ]
    }
   ],
   "source": [
    "history_Conv2DGRU = model_Conv2DGRU.fit(train_generator, \n",
    "                                       steps_per_epoch=steps_per_epoch, \n",
    "                                       epochs=num_epochs, \n",
    "                                       verbose=1, \n",
    "                                       callbacks=callbacks_list, \n",
    "                                       validation_data=val_generator, \n",
    "                                       validation_steps=validation_steps, \n",
    "                                       class_weight=None,\n",
    "                                       initial_epoch=0) "
   ]
  },
  {
   "cell_type": "code",
   "execution_count": 19,
   "metadata": {},
   "outputs": [
    {
     "data": {
      "image/png": "[encoded data removed]",
      "text/plain": [
       "<Figure size 576x576 with 2 Axes>"
      ]
     },
     "metadata": {
      "needs_background": "light"
     },
     "output_type": "display_data"
    }
   ],
   "source": [
    "plot(history_Conv2DGRU)"
   ]
  },
  {
   "cell_type": "markdown",
   "metadata": {},
   "source": [
    "# 3.Conv2D + LSTM"
   ]
  },
  {
   "cell_type": "code",
   "execution_count": 21,
   "metadata": {},
   "outputs": [
    {
     "name": "stdout",
     "output_type": "stream",
     "text": [
      "Model: \"sequential_2\"\n",
      "_________________________________________________________________\n",
      " Layer (type)                Output Shape              Param #   \n",
      "=================================================================\n",
      " time_distributed_23 (TimeDi  (None, 10, 120, 120, 16)  448      \n",
      " stributed)                                                      \n",
      "                                                                 \n",
      " time_distributed_24 (TimeDi  (None, 10, 120, 120, 16)  64       \n",
      " stributed)                                                      \n",
      "                                                                 \n",
      " time_distributed_25 (TimeDi  (None, 10, 60, 60, 16)   0         \n",
      " stributed)                                                      \n",
      "                                                                 \n",
      " time_distributed_26 (TimeDi  (None, 10, 60, 60, 32)   4640      \n",
      " stributed)                                                      \n",
      "                                                                 \n",
      " time_distributed_27 (TimeDi  (None, 10, 60, 60, 32)   128       \n",
      " stributed)                                                      \n",
      "                                                                 \n",
      " time_distributed_28 (TimeDi  (None, 10, 30, 30, 32)   0         \n",
      " stributed)                                                      \n",
      "                                                                 \n",
      " time_distributed_29 (TimeDi  (None, 10, 30, 30, 64)   18496     \n",
      " stributed)                                                      \n",
      "                                                                 \n",
      " time_distributed_30 (TimeDi  (None, 10, 30, 30, 64)   256       \n",
      " stributed)                                                      \n",
      "                                                                 \n",
      " time_distributed_31 (TimeDi  (None, 10, 15, 15, 64)   0         \n",
      " stributed)                                                      \n",
      "                                                                 \n",
      " time_distributed_32 (TimeDi  (None, 10, 15, 15, 128)  73856     \n",
      " stributed)                                                      \n",
      "                                                                 \n",
      " time_distributed_33 (TimeDi  (None, 10, 15, 15, 128)  512       \n",
      " stributed)                                                      \n",
      "                                                                 \n",
      " time_distributed_34 (TimeDi  (None, 10, 7, 7, 128)    0         \n",
      " stributed)                                                      \n",
      "                                                                 \n",
      " time_distributed_35 (TimeDi  (None, 10, 7, 7, 256)    295168    \n",
      " stributed)                                                      \n",
      "                                                                 \n",
      " time_distributed_36 (TimeDi  (None, 10, 7, 7, 256)    1024      \n",
      " stributed)                                                      \n",
      "                                                                 \n",
      " time_distributed_37 (TimeDi  (None, 10, 3, 3, 256)    0         \n",
      " stributed)                                                      \n",
      "                                                                 \n",
      " time_distributed_38 (TimeDi  (None, 10, 2304)         0         \n",
      " stributed)                                                      \n",
      "                                                                 \n",
      " lstm (LSTM)                 (None, 256)               2622464   \n",
      "                                                                 \n",
      " dropout_13 (Dropout)        (None, 256)               0         \n",
      "                                                                 \n",
      " dense_6 (Dense)             (None, 256)               65792     \n",
      "                                                                 \n",
      " dropout_14 (Dropout)        (None, 256)               0         \n",
      "                                                                 \n",
      " dense_7 (Dense)             (None, 256)               65792     \n",
      "                                                                 \n",
      " dropout_15 (Dropout)        (None, 256)               0         \n",
      "                                                                 \n",
      " dense_8 (Dense)             (None, 5)                 1285      \n",
      "                                                                 \n",
      "=================================================================\n",
      "Total params: 3,149,925\n",
      "Trainable params: 3,148,933\n",
      "Non-trainable params: 992\n",
      "_________________________________________________________________\n",
      "None\n"
     ]
    }
   ],
   "source": [
    "model_conv2DLSTM = Sequential()\n",
    "\n",
    "model_conv2DLSTM.add(TimeDistributed(Conv2D(16, (3, 3) , padding='same', activation='relu'),\n",
    "                          input_shape=(frames,rows,cols,channel)))\n",
    "model_conv2DLSTM.add(TimeDistributed(BatchNormalization()))\n",
    "model_conv2DLSTM.add(TimeDistributed(MaxPooling2D((2, 2))))\n",
    "\n",
    "model_conv2DLSTM.add(TimeDistributed(Conv2D(32, (3, 3) , padding='same', activation='relu')))\n",
    "model_conv2DLSTM.add(TimeDistributed(BatchNormalization()))\n",
    "model_conv2DLSTM.add(TimeDistributed(MaxPooling2D((2, 2))))\n",
    "\n",
    "model_conv2DLSTM.add(TimeDistributed(Conv2D(64, (3, 3) , padding='same', activation='relu')))\n",
    "model_conv2DLSTM.add(TimeDistributed(BatchNormalization()))\n",
    "model_conv2DLSTM.add(TimeDistributed(MaxPooling2D((2, 2))))\n",
    "\n",
    "model_conv2DLSTM.add(TimeDistributed(Conv2D(128, (3, 3) , padding='same', activation='relu')))\n",
    "model_conv2DLSTM.add(TimeDistributed(BatchNormalization()))\n",
    "model_conv2DLSTM.add(TimeDistributed(MaxPooling2D((2, 2))))\n",
    "\n",
    "model_conv2DLSTM.add(TimeDistributed(Conv2D(256, (3, 3) , padding='same', activation='relu')))\n",
    "model_conv2DLSTM.add(TimeDistributed(BatchNormalization()))\n",
    "model_conv2DLSTM.add(TimeDistributed(MaxPooling2D((2, 2))))\n",
    "\n",
    "model_conv2DLSTM.add(TimeDistributed(Flatten()))\n",
    "\n",
    "model_conv2DLSTM.add(LSTM(256))\n",
    "model_conv2DLSTM.add(Dropout(0.5))\n",
    "\n",
    "model_conv2DLSTM.add(Dense(256,activation='relu'))\n",
    "model_conv2DLSTM.add(Dropout(0.25))\n",
    "model_conv2DLSTM.add(Dense(256,activation='relu'))\n",
    "model_conv2DLSTM.add(Dropout(0.25))\n",
    "model_conv2DLSTM.add(Dense(5, activation='softmax'))\n",
    "optimiser = optimizers.Adam() #write your optimizer\n",
    "model_conv2DLSTM.compile(optimizer=optimiser, loss='categorical_crossentropy', metrics=['categorical_accuracy'])\n",
    "print (model_conv2DLSTM.summary())"
   ]
  },
  {
   "cell_type": "code",
   "execution_count": 22,
   "metadata": {},
   "outputs": [
    {
     "name": "stdout",
     "output_type": "stream",
     "text": [
      "Epoch 1/30\n",
      "67/67 [==============================] - ETA: 0s - loss: 1.7492 - categorical_accuracy: 0.1741\n",
      "Epoch 00001: val_loss did not improve from 1.23297\n",
      "67/67 [==============================] - 27s 365ms/step - loss: 1.7492 - categorical_accuracy: 0.1741 - val_loss: 1.6177 - val_categorical_accuracy: 0.3000 - lr: 0.0010\n",
      "Epoch 2/30\n",
      "67/67 [==============================] - ETA: 0s - loss: 1.6276 - categorical_accuracy: 0.3035\n",
      "Epoch 00002: val_loss did not improve from 1.23297\n",
      "67/67 [==============================] - 24s 359ms/step - loss: 1.6276 - categorical_accuracy: 0.3035 - val_loss: 1.6979 - val_categorical_accuracy: 0.2600 - lr: 0.0010\n",
      "Epoch 3/30\n",
      "67/67 [==============================] - ETA: 0s - loss: 1.5569 - categorical_accuracy: 0.3134\n",
      "Epoch 00003: val_loss did not improve from 1.23297\n",
      "67/67 [==============================] - 23s 343ms/step - loss: 1.5569 - categorical_accuracy: 0.3134 - val_loss: 1.9643 - val_categorical_accuracy: 0.2000 - lr: 2.0000e-04\n",
      "Epoch 4/30\n",
      "67/67 [==============================] - ETA: 0s - loss: 1.4746 - categorical_accuracy: 0.3433\n",
      "Epoch 00004: val_loss did not improve from 1.23297\n",
      "67/67 [==============================] - 23s 343ms/step - loss: 1.4746 - categorical_accuracy: 0.3433 - val_loss: 1.9638 - val_categorical_accuracy: 0.2200 - lr: 1.0000e-04\n",
      "Epoch 5/30\n",
      "67/67 [==============================] - ETA: 0s - loss: 1.4500 - categorical_accuracy: 0.3483\n",
      "Epoch 00005: val_loss did not improve from 1.23297\n",
      "67/67 [==============================] - 23s 343ms/step - loss: 1.4500 - categorical_accuracy: 0.3483 - val_loss: 1.9737 - val_categorical_accuracy: 0.2800 - lr: 1.0000e-04\n",
      "Epoch 6/30\n",
      "67/67 [==============================] - ETA: 0s - loss: 1.4438 - categorical_accuracy: 0.3632\n",
      "Epoch 00006: val_loss did not improve from 1.23297\n",
      "67/67 [==============================] - 23s 348ms/step - loss: 1.4438 - categorical_accuracy: 0.3632 - val_loss: 1.9354 - val_categorical_accuracy: 0.2900 - lr: 1.0000e-04\n",
      "Epoch 7/30\n",
      "67/67 [==============================] - ETA: 0s - loss: 1.4670 - categorical_accuracy: 0.3085\n",
      "Epoch 00007: val_loss did not improve from 1.23297\n",
      "67/67 [==============================] - 24s 359ms/step - loss: 1.4670 - categorical_accuracy: 0.3085 - val_loss: 1.5467 - val_categorical_accuracy: 0.3300 - lr: 1.0000e-04\n",
      "Epoch 8/30\n",
      "67/67 [==============================] - ETA: 0s - loss: 1.4303 - categorical_accuracy: 0.3184\n",
      "Epoch 00008: val_loss did not improve from 1.23297\n",
      "67/67 [==============================] - 23s 342ms/step - loss: 1.4303 - categorical_accuracy: 0.3184 - val_loss: 1.4362 - val_categorical_accuracy: 0.3900 - lr: 1.0000e-04\n",
      "Epoch 9/30\n",
      "67/67 [==============================] - ETA: 0s - loss: 1.3676 - categorical_accuracy: 0.4030\n",
      "Epoch 00009: val_loss did not improve from 1.23297\n",
      "67/67 [==============================] - 23s 354ms/step - loss: 1.3676 - categorical_accuracy: 0.4030 - val_loss: 1.3846 - val_categorical_accuracy: 0.4400 - lr: 1.0000e-04\n",
      "Epoch 10/30\n",
      "67/67 [==============================] - ETA: 0s - loss: 1.3586 - categorical_accuracy: 0.3980\n",
      "Epoch 00010: val_loss did not improve from 1.23297\n",
      "67/67 [==============================] - 24s 362ms/step - loss: 1.3586 - categorical_accuracy: 0.3980 - val_loss: 1.3802 - val_categorical_accuracy: 0.3900 - lr: 1.0000e-04\n",
      "Epoch 11/30\n",
      "67/67 [==============================] - ETA: 0s - loss: 1.3915 - categorical_accuracy: 0.4080\n",
      "Epoch 00011: val_loss improved from 1.23297 to 1.21635, saving model to model_init_2024-10-3101_15_29.137681/model-00011-1.39146-0.40796-1.21635-0.49000.keras\n",
      "67/67 [==============================] - 23s 350ms/step - loss: 1.3915 - categorical_accuracy: 0.4080 - val_loss: 1.2164 - val_categorical_accuracy: 0.4900 - lr: 1.0000e-04\n",
      "Epoch 12/30\n",
      "67/67 [==============================] - ETA: 0s - loss: 1.3230 - categorical_accuracy: 0.4129\n",
      "Epoch 00012: val_loss improved from 1.21635 to 1.19371, saving model to model_init_2024-10-3101_15_29.137681/model-00012-1.32296-0.41294-1.19371-0.48000.keras\n",
      "67/67 [==============================] - 23s 351ms/step - loss: 1.3230 - categorical_accuracy: 0.4129 - val_loss: 1.1937 - val_categorical_accuracy: 0.4800 - lr: 1.0000e-04\n",
      "Epoch 13/30\n",
      "67/67 [==============================] - ETA: 0s - loss: 1.3002 - categorical_accuracy: 0.4527\n",
      "Epoch 00013: val_loss improved from 1.19371 to 1.13824, saving model to model_init_2024-10-3101_15_29.137681/model-00013-1.30021-0.45274-1.13824-0.61000.keras\n",
      "67/67 [==============================] - 23s 354ms/step - loss: 1.3002 - categorical_accuracy: 0.4527 - val_loss: 1.1382 - val_categorical_accuracy: 0.6100 - lr: 1.0000e-04\n",
      "Epoch 14/30\n",
      "67/67 [==============================] - ETA: 0s - loss: 1.3287 - categorical_accuracy: 0.4179\n",
      "Epoch 00014: val_loss improved from 1.13824 to 1.11415, saving model to model_init_2024-10-3101_15_29.137681/model-00014-1.32874-0.41791-1.11415-0.56000.keras\n",
      "67/67 [==============================] - 23s 350ms/step - loss: 1.3287 - categorical_accuracy: 0.4179 - val_loss: 1.1142 - val_categorical_accuracy: 0.5600 - lr: 1.0000e-04\n",
      "Epoch 15/30\n",
      "67/67 [==============================] - ETA: 0s - loss: 1.2740 - categorical_accuracy: 0.4328\n",
      "Epoch 00015: val_loss improved from 1.11415 to 1.10313, saving model to model_init_2024-10-3101_15_29.137681/model-00015-1.27398-0.43284-1.10313-0.58000.keras\n",
      "67/67 [==============================] - 24s 356ms/step - loss: 1.2740 - categorical_accuracy: 0.4328 - val_loss: 1.1031 - val_categorical_accuracy: 0.5800 - lr: 1.0000e-04\n",
      "Epoch 16/30\n",
      "67/67 [==============================] - ETA: 0s - loss: 1.2470 - categorical_accuracy: 0.4726\n",
      "Epoch 00016: val_loss improved from 1.10313 to 1.04459, saving model to model_init_2024-10-3101_15_29.137681/model-00016-1.24704-0.47264-1.04459-0.64000.keras\n",
      "67/67 [==============================] - 22s 334ms/step - loss: 1.2470 - categorical_accuracy: 0.4726 - val_loss: 1.0446 - val_categorical_accuracy: 0.6400 - lr: 1.0000e-04\n",
      "Epoch 17/30\n",
      "67/67 [==============================] - ETA: 0s - loss: 1.2309 - categorical_accuracy: 0.4776\n",
      "Epoch 00017: val_loss did not improve from 1.04459\n",
      "67/67 [==============================] - 24s 357ms/step - loss: 1.2309 - categorical_accuracy: 0.4776 - val_loss: 1.0585 - val_categorical_accuracy: 0.5700 - lr: 1.0000e-04\n",
      "Epoch 18/30\n",
      "67/67 [==============================] - ETA: 0s - loss: 1.1195 - categorical_accuracy: 0.4925\n",
      "Epoch 00018: val_loss improved from 1.04459 to 1.00294, saving model to model_init_2024-10-3101_15_29.137681/model-00018-1.11947-0.49254-1.00294-0.64000.keras\n",
      "67/67 [==============================] - 22s 335ms/step - loss: 1.1195 - categorical_accuracy: 0.4925 - val_loss: 1.0029 - val_categorical_accuracy: 0.6400 - lr: 1.0000e-04\n",
      "Epoch 19/30\n",
      "67/67 [==============================] - ETA: 0s - loss: 1.1543 - categorical_accuracy: 0.5124\n",
      "Epoch 00019: val_loss did not improve from 1.00294\n",
      "67/67 [==============================] - 22s 333ms/step - loss: 1.1543 - categorical_accuracy: 0.5124 - val_loss: 1.0053 - val_categorical_accuracy: 0.6200 - lr: 1.0000e-04\n",
      "Epoch 20/30\n",
      "67/67 [==============================] - ETA: 0s - loss: 1.1637 - categorical_accuracy: 0.4876\n",
      "Epoch 00020: val_loss improved from 1.00294 to 0.98087, saving model to model_init_2024-10-3101_15_29.137681/model-00020-1.16368-0.48756-0.98087-0.60000.keras\n",
      "67/67 [==============================] - 24s 361ms/step - loss: 1.1637 - categorical_accuracy: 0.4876 - val_loss: 0.9809 - val_categorical_accuracy: 0.6000 - lr: 1.0000e-04\n",
      "Epoch 21/30\n",
      "67/67 [==============================] - ETA: 0s - loss: 1.0432 - categorical_accuracy: 0.5871\n",
      "Epoch 00021: val_loss did not improve from 0.98087\n",
      "67/67 [==============================] - 21s 316ms/step - loss: 1.0432 - categorical_accuracy: 0.5871 - val_loss: 1.0156 - val_categorical_accuracy: 0.5200 - lr: 1.0000e-04\n",
      "Epoch 22/30\n",
      "67/67 [==============================] - ETA: 0s - loss: 1.0847 - categorical_accuracy: 0.5771\n",
      "Epoch 00022: val_loss improved from 0.98087 to 0.94348, saving model to model_init_2024-10-3101_15_29.137681/model-00022-1.08472-0.57711-0.94348-0.65000.keras\n",
      "67/67 [==============================] - 24s 362ms/step - loss: 1.0847 - categorical_accuracy: 0.5771 - val_loss: 0.9435 - val_categorical_accuracy: 0.6500 - lr: 1.0000e-04\n",
      "Epoch 23/30\n",
      "67/67 [==============================] - ETA: 0s - loss: 1.0982 - categorical_accuracy: 0.5473\n",
      "Epoch 00023: val_loss improved from 0.94348 to 0.93845, saving model to model_init_2024-10-3101_15_29.137681/model-00023-1.09817-0.54726-0.93845-0.59000.keras\n",
      "67/67 [==============================] - 22s 327ms/step - loss: 1.0982 - categorical_accuracy: 0.5473 - val_loss: 0.9385 - val_categorical_accuracy: 0.5900 - lr: 1.0000e-04\n",
      "Epoch 24/30\n",
      "67/67 [==============================] - ETA: 0s - loss: 1.0188 - categorical_accuracy: 0.5721\n",
      "Epoch 00024: val_loss did not improve from 0.93845\n",
      "67/67 [==============================] - 22s 339ms/step - loss: 1.0188 - categorical_accuracy: 0.5721 - val_loss: 0.9401 - val_categorical_accuracy: 0.6000 - lr: 1.0000e-04\n",
      "Epoch 25/30\n",
      "67/67 [==============================] - ETA: 0s - loss: 0.9744 - categorical_accuracy: 0.5871\n",
      "Epoch 00025: val_loss improved from 0.93845 to 0.85451, saving model to model_init_2024-10-3101_15_29.137681/model-00025-0.97441-0.58706-0.85451-0.65000.keras\n",
      "67/67 [==============================] - 24s 358ms/step - loss: 0.9744 - categorical_accuracy: 0.5871 - val_loss: 0.8545 - val_categorical_accuracy: 0.6500 - lr: 1.0000e-04\n",
      "Epoch 26/30\n",
      "67/67 [==============================] - ETA: 0s - loss: 0.9974 - categorical_accuracy: 0.6119\n",
      "Epoch 00026: val_loss did not improve from 0.85451\n",
      "67/67 [==============================] - 22s 338ms/step - loss: 0.9974 - categorical_accuracy: 0.6119 - val_loss: 0.9138 - val_categorical_accuracy: 0.6200 - lr: 1.0000e-04\n",
      "Epoch 27/30\n",
      "67/67 [==============================] - ETA: 0s - loss: 0.8720 - categorical_accuracy: 0.6816\n",
      "Epoch 00027: val_loss improved from 0.85451 to 0.84466, saving model to model_init_2024-10-3101_15_29.137681/model-00027-0.87201-0.68159-0.84466-0.65000.keras\n",
      "67/67 [==============================] - 23s 350ms/step - loss: 0.8720 - categorical_accuracy: 0.6816 - val_loss: 0.8447 - val_categorical_accuracy: 0.6500 - lr: 1.0000e-04\n",
      "Epoch 28/30\n",
      "67/67 [==============================] - ETA: 0s - loss: 0.8854 - categorical_accuracy: 0.6269\n",
      "Epoch 00028: val_loss improved from 0.84466 to 0.77286, saving model to model_init_2024-10-3101_15_29.137681/model-00028-0.88542-0.62687-0.77286-0.71000.keras\n",
      "67/67 [==============================] - 22s 336ms/step - loss: 0.8854 - categorical_accuracy: 0.6269 - val_loss: 0.7729 - val_categorical_accuracy: 0.7100 - lr: 1.0000e-04\n",
      "Epoch 29/30\n",
      "67/67 [==============================] - ETA: 0s - loss: 0.7309 - categorical_accuracy: 0.7363\n",
      "Epoch 00029: val_loss improved from 0.77286 to 0.76709, saving model to model_init_2024-10-3101_15_29.137681/model-00029-0.73094-0.73632-0.76709-0.70000.keras\n",
      "67/67 [==============================] - 22s 335ms/step - loss: 0.7309 - categorical_accuracy: 0.7363 - val_loss: 0.7671 - val_categorical_accuracy: 0.7000 - lr: 1.0000e-04\n",
      "Epoch 30/30\n",
      "67/67 [==============================] - ETA: 0s - loss: 0.8943 - categorical_accuracy: 0.6517\n",
      "Epoch 00030: val_loss improved from 0.76709 to 0.76643, saving model to model_init_2024-10-3101_15_29.137681/model-00030-0.89429-0.65174-0.76643-0.69000.keras\n",
      "67/67 [==============================] - 23s 349ms/step - loss: 0.8943 - categorical_accuracy: 0.6517 - val_loss: 0.7664 - val_categorical_accuracy: 0.6900 - lr: 1.0000e-04\n"
     ]
    }
   ],
   "source": [
    "history_conv2DLSTM = model_conv2DLSTM.fit(train_generator, \n",
    "                                       steps_per_epoch=steps_per_epoch, \n",
    "                                       epochs=num_epochs, \n",
    "                                       verbose=1, \n",
    "                                       callbacks=callbacks_list, \n",
    "                                       validation_data=val_generator, \n",
    "                                       validation_steps=validation_steps, \n",
    "                                       class_weight=None,\n",
    "                                       initial_epoch=0) "
   ]
  },
  {
   "cell_type": "code",
   "execution_count": 23,
   "metadata": {},
   "outputs": [
    {
     "data": {
      "image/png": "[encoded data removed]",
      "text/plain": [
       "<Figure size 576x576 with 2 Axes>"
      ]
     },
     "metadata": {
      "needs_background": "light"
     },
     "output_type": "display_data"
    }
   ],
   "source": [
    "plot(history_conv2DLSTM)"
   ]
  },
  {
   "cell_type": "markdown",
   "metadata": {},
   "source": [
    "# 4.Transfer Learning:MobileNet +LSTM"
   ]
  },
  {
   "cell_type": "code",
   "execution_count": 25,
   "metadata": {},
   "outputs": [
    {
     "name": "stdout",
     "output_type": "stream",
     "text": [
      "WARNING:tensorflow:`input_shape` is undefined or non-square, or `rows` is not in [128, 160, 192, 224]. Weights for input shape (224, 224) will be loaded as the default.\n",
      "Downloading data from https://storage.googleapis.com/tensorflow/keras-applications/mobilenet/mobilenet_1_0_224_tf_no_top.h5\n",
      "17227776/17225924 [==============================] - 2s 0us/step\n",
      "17235968/17225924 [==============================] - 2s 0us/step\n",
      "Model: \"sequential_3\"\n",
      "_________________________________________________________________\n",
      " Layer (type)                Output Shape              Param #   \n",
      "=================================================================\n",
      " time_distributed_39 (TimeDi  (None, 10, 3, 3, 1024)   3228864   \n",
      " stributed)                                                      \n",
      "                                                                 \n",
      " time_distributed_40 (TimeDi  (None, 10, 3, 3, 1024)   4096      \n",
      " stributed)                                                      \n",
      "                                                                 \n",
      " time_distributed_41 (TimeDi  (None, 10, 1, 1, 1024)   0         \n",
      " stributed)                                                      \n",
      "                                                                 \n",
      " time_distributed_42 (TimeDi  (None, 10, 1024)         0         \n",
      " stributed)                                                      \n",
      "                                                                 \n",
      " lstm_1 (LSTM)               (None, 64)                278784    \n",
      "                                                                 \n",
      " dropout_16 (Dropout)        (None, 64)                0         \n",
      "                                                                 \n",
      " dense_9 (Dense)             (None, 128)               8320      \n",
      "                                                                 \n",
      " dropout_17 (Dropout)        (None, 128)               0         \n",
      "                                                                 \n",
      " dense_10 (Dense)            (None, 64)                8256      \n",
      "                                                                 \n",
      " dropout_18 (Dropout)        (None, 64)                0         \n",
      "                                                                 \n",
      " dense_11 (Dense)            (None, 5)                 325       \n",
      "                                                                 \n",
      "=================================================================\n",
      "Total params: 3,528,645\n",
      "Trainable params: 297,733\n",
      "Non-trainable params: 3,230,912\n",
      "_________________________________________________________________\n",
      "None\n"
     ]
    }
   ],
   "source": [
    "mobilenet_transfer = mobilenet.MobileNet(weights='imagenet', include_top=False)\n",
    "\n",
    "model_transferLSTM = Sequential()\n",
    "model_transferLSTM.add(TimeDistributed(mobilenet_transfer,input_shape=(10,120,120,3)))\n",
    "\n",
    "for layer in model_transferLSTM.layers:\n",
    "    layer.trainable = False\n",
    "\n",
    "model_transferLSTM.add(TimeDistributed(BatchNormalization()))\n",
    "model_transferLSTM.add(TimeDistributed(MaxPooling2D((2, 2))))\n",
    "model_transferLSTM.add(TimeDistributed(Flatten()))\n",
    "\n",
    "model_transferLSTM.add(LSTM(64))\n",
    "model_transferLSTM.add(Dropout(.25))\n",
    "\n",
    "model_transferLSTM.add(Dense(128,activation='relu'))\n",
    "model_transferLSTM.add(Dropout(0.25))\n",
    "\n",
    "model_transferLSTM.add(Dense(64,activation='relu'))\n",
    "model_transferLSTM.add(Dropout(0.25))\n",
    "\n",
    "model_transferLSTM.add(Dense(5, activation='softmax'))\n",
    "\n",
    "optimiser = optimizers.Adam() #write your optimizer\n",
    "model_transferLSTM.compile(optimizer=optimiser, loss='categorical_crossentropy', metrics=['categorical_accuracy'])\n",
    "print (model_transferLSTM.summary())"
   ]
  },
  {
   "cell_type": "code",
   "execution_count": 26,
   "metadata": {},
   "outputs": [
    {
     "name": "stdout",
     "output_type": "stream",
     "text": [
      "Epoch 1/30\n",
      "67/67 [==============================] - ETA: 0s - loss: 1.6195 - categorical_accuracy: 0.2886\n",
      "Epoch 00001: val_loss did not improve from 0.76643\n",
      "67/67 [==============================] - 27s 361ms/step - loss: 1.6195 - categorical_accuracy: 0.2886 - val_loss: 1.5294 - val_categorical_accuracy: 0.3700 - lr: 0.0010\n",
      "Epoch 2/30\n",
      "67/67 [==============================] - ETA: 0s - loss: 1.5550 - categorical_accuracy: 0.3035\n",
      "Epoch 00002: val_loss did not improve from 0.76643\n",
      "67/67 [==============================] - 23s 346ms/step - loss: 1.5550 - categorical_accuracy: 0.3035 - val_loss: 1.3669 - val_categorical_accuracy: 0.5700 - lr: 0.0010\n",
      "Epoch 3/30\n",
      "67/67 [==============================] - ETA: 0s - loss: 1.4734 - categorical_accuracy: 0.3731\n",
      "Epoch 00003: val_loss did not improve from 0.76643\n",
      "67/67 [==============================] - 23s 347ms/step - loss: 1.4734 - categorical_accuracy: 0.3731 - val_loss: 1.3047 - val_categorical_accuracy: 0.4700 - lr: 0.0010\n",
      "Epoch 4/30\n",
      "67/67 [==============================] - ETA: 0s - loss: 1.3584 - categorical_accuracy: 0.4179\n",
      "Epoch 00004: val_loss did not improve from 0.76643\n",
      "67/67 [==============================] - 22s 340ms/step - loss: 1.3584 - categorical_accuracy: 0.4179 - val_loss: 1.1348 - val_categorical_accuracy: 0.5900 - lr: 0.0010\n",
      "Epoch 5/30\n",
      "67/67 [==============================] - ETA: 0s - loss: 1.2535 - categorical_accuracy: 0.4627\n",
      "Epoch 00005: val_loss did not improve from 0.76643\n",
      "67/67 [==============================] - 23s 351ms/step - loss: 1.2535 - categorical_accuracy: 0.4627 - val_loss: 1.0711 - val_categorical_accuracy: 0.6400 - lr: 0.0010\n",
      "Epoch 6/30\n",
      "67/67 [==============================] - ETA: 0s - loss: 1.1495 - categorical_accuracy: 0.5373\n",
      "Epoch 00006: val_loss did not improve from 0.76643\n",
      "67/67 [==============================] - 23s 342ms/step - loss: 1.1495 - categorical_accuracy: 0.5373 - val_loss: 0.9842 - val_categorical_accuracy: 0.6200 - lr: 0.0010\n",
      "Epoch 7/30\n",
      "67/67 [==============================] - ETA: 0s - loss: 1.3048 - categorical_accuracy: 0.4876\n",
      "Epoch 00007: val_loss did not improve from 0.76643\n",
      "67/67 [==============================] - 23s 352ms/step - loss: 1.3048 - categorical_accuracy: 0.4876 - val_loss: 0.9701 - val_categorical_accuracy: 0.6800 - lr: 0.0010\n",
      "Epoch 8/30\n",
      "67/67 [==============================] - ETA: 0s - loss: 1.1203 - categorical_accuracy: 0.5572\n",
      "Epoch 00008: val_loss did not improve from 0.76643\n",
      "67/67 [==============================] - 22s 328ms/step - loss: 1.1203 - categorical_accuracy: 0.5572 - val_loss: 0.8953 - val_categorical_accuracy: 0.6800 - lr: 0.0010\n",
      "Epoch 9/30\n",
      "67/67 [==============================] - ETA: 0s - loss: 1.0137 - categorical_accuracy: 0.5871\n",
      "Epoch 00009: val_loss did not improve from 0.76643\n",
      "67/67 [==============================] - 24s 367ms/step - loss: 1.0137 - categorical_accuracy: 0.5871 - val_loss: 1.0229 - val_categorical_accuracy: 0.6000 - lr: 0.0010\n",
      "Epoch 10/30\n",
      "67/67 [==============================] - ETA: 0s - loss: 1.0850 - categorical_accuracy: 0.6318\n",
      "Epoch 00010: val_loss did not improve from 0.76643\n",
      "67/67 [==============================] - 25s 372ms/step - loss: 1.0850 - categorical_accuracy: 0.6318 - val_loss: 0.8327 - val_categorical_accuracy: 0.7100 - lr: 2.0000e-04\n",
      "Epoch 11/30\n",
      "67/67 [==============================] - ETA: 0s - loss: 0.9356 - categorical_accuracy: 0.6517\n",
      "Epoch 00011: val_loss did not improve from 0.76643\n",
      "67/67 [==============================] - 23s 341ms/step - loss: 0.9356 - categorical_accuracy: 0.6517 - val_loss: 0.7714 - val_categorical_accuracy: 0.6600 - lr: 2.0000e-04\n",
      "Epoch 12/30\n",
      "67/67 [==============================] - ETA: 0s - loss: 0.7300 - categorical_accuracy: 0.7264\n",
      "Epoch 00012: val_loss improved from 0.76643 to 0.75453, saving model to model_init_2024-10-3101_15_29.137681/model-00012-0.73001-0.72637-0.75453-0.70000.keras\n",
      "67/67 [==============================] - 24s 357ms/step - loss: 0.7300 - categorical_accuracy: 0.7264 - val_loss: 0.7545 - val_categorical_accuracy: 0.7000 - lr: 2.0000e-04\n",
      "Epoch 13/30\n",
      "67/67 [==============================] - ETA: 0s - loss: 0.7420 - categorical_accuracy: 0.7114\n",
      "Epoch 00013: val_loss improved from 0.75453 to 0.75031, saving model to model_init_2024-10-3101_15_29.137681/model-00013-0.74204-0.71144-0.75031-0.68000.keras\n",
      "67/67 [==============================] - 24s 362ms/step - loss: 0.7420 - categorical_accuracy: 0.7114 - val_loss: 0.7503 - val_categorical_accuracy: 0.6800 - lr: 2.0000e-04\n",
      "Epoch 14/30\n",
      "67/67 [==============================] - ETA: 0s - loss: 0.6691 - categorical_accuracy: 0.7065\n",
      "Epoch 00014: val_loss improved from 0.75031 to 0.69627, saving model to model_init_2024-10-3101_15_29.137681/model-00014-0.66913-0.70647-0.69627-0.76000.keras\n",
      "67/67 [==============================] - 21s 324ms/step - loss: 0.6691 - categorical_accuracy: 0.7065 - val_loss: 0.6963 - val_categorical_accuracy: 0.7600 - lr: 2.0000e-04\n",
      "Epoch 15/30\n",
      "67/67 [==============================] - ETA: 0s - loss: 0.5637 - categorical_accuracy: 0.8259\n",
      "Epoch 00015: val_loss improved from 0.69627 to 0.68605, saving model to model_init_2024-10-3101_15_29.137681/model-00015-0.56372-0.82587-0.68605-0.76000.keras\n",
      "67/67 [==============================] - 24s 370ms/step - loss: 0.5637 - categorical_accuracy: 0.8259 - val_loss: 0.6861 - val_categorical_accuracy: 0.7600 - lr: 2.0000e-04\n",
      "Epoch 16/30\n",
      "67/67 [==============================] - ETA: 0s - loss: 0.5924 - categorical_accuracy: 0.7811\n",
      "Epoch 00016: val_loss improved from 0.68605 to 0.66830, saving model to model_init_2024-10-3101_15_29.137681/model-00016-0.59235-0.78109-0.66830-0.73000.keras\n",
      "67/67 [==============================] - 23s 353ms/step - loss: 0.5924 - categorical_accuracy: 0.7811 - val_loss: 0.6683 - val_categorical_accuracy: 0.7300 - lr: 2.0000e-04\n",
      "Epoch 17/30\n",
      "67/67 [==============================] - ETA: 0s - loss: 0.6488 - categorical_accuracy: 0.7562\n",
      "Epoch 00017: val_loss did not improve from 0.66830\n",
      "67/67 [==============================] - 23s 342ms/step - loss: 0.6488 - categorical_accuracy: 0.7562 - val_loss: 0.7250 - val_categorical_accuracy: 0.7100 - lr: 2.0000e-04\n",
      "Epoch 18/30\n",
      "67/67 [==============================] - ETA: 0s - loss: 0.5004 - categorical_accuracy: 0.8060\n",
      "Epoch 00018: val_loss did not improve from 0.66830\n",
      "67/67 [==============================] - 24s 366ms/step - loss: 0.5004 - categorical_accuracy: 0.8060 - val_loss: 0.7084 - val_categorical_accuracy: 0.7100 - lr: 1.0000e-04\n",
      "Epoch 19/30\n",
      "67/67 [==============================] - ETA: 0s - loss: 0.6639 - categorical_accuracy: 0.7512\n",
      "Epoch 00019: val_loss did not improve from 0.66830\n",
      "67/67 [==============================] - 24s 358ms/step - loss: 0.6639 - categorical_accuracy: 0.7512 - val_loss: 0.6977 - val_categorical_accuracy: 0.7200 - lr: 1.0000e-04\n",
      "Epoch 20/30\n",
      "67/67 [==============================] - ETA: 0s - loss: 0.5763 - categorical_accuracy: 0.8109\n",
      "Epoch 00020: val_loss did not improve from 0.66830\n",
      "67/67 [==============================] - 21s 316ms/step - loss: 0.5763 - categorical_accuracy: 0.8109 - val_loss: 0.6740 - val_categorical_accuracy: 0.7500 - lr: 1.0000e-04\n",
      "Epoch 21/30\n",
      "67/67 [==============================] - ETA: 0s - loss: 0.5206 - categorical_accuracy: 0.8060\n",
      "Epoch 00021: val_loss improved from 0.66830 to 0.66643, saving model to model_init_2024-10-3101_15_29.137681/model-00021-0.52056-0.80597-0.66643-0.75000.keras\n",
      "67/67 [==============================] - 23s 344ms/step - loss: 0.5206 - categorical_accuracy: 0.8060 - val_loss: 0.6664 - val_categorical_accuracy: 0.7500 - lr: 1.0000e-04\n",
      "Epoch 22/30\n",
      "67/67 [==============================] - ETA: 0s - loss: 0.4963 - categorical_accuracy: 0.8159\n",
      "Epoch 00022: val_loss improved from 0.66643 to 0.65641, saving model to model_init_2024-10-3101_15_29.137681/model-00022-0.49628-0.81592-0.65641-0.73000.keras\n",
      "67/67 [==============================] - 22s 336ms/step - loss: 0.4963 - categorical_accuracy: 0.8159 - val_loss: 0.6564 - val_categorical_accuracy: 0.7300 - lr: 1.0000e-04\n",
      "Epoch 23/30\n",
      "67/67 [==============================] - ETA: 0s - loss: 0.5830 - categorical_accuracy: 0.7811\n",
      "Epoch 00023: val_loss did not improve from 0.65641\n",
      "67/67 [==============================] - 24s 366ms/step - loss: 0.5830 - categorical_accuracy: 0.7811 - val_loss: 0.6571 - val_categorical_accuracy: 0.7300 - lr: 1.0000e-04\n",
      "Epoch 24/30\n",
      "67/67 [==============================] - ETA: 0s - loss: 0.4859 - categorical_accuracy: 0.8507\n",
      "Epoch 00024: val_loss improved from 0.65641 to 0.65480, saving model to model_init_2024-10-3101_15_29.137681/model-00024-0.48595-0.85075-0.65480-0.70000.keras\n",
      "67/67 [==============================] - 24s 366ms/step - loss: 0.4859 - categorical_accuracy: 0.8507 - val_loss: 0.6548 - val_categorical_accuracy: 0.7000 - lr: 1.0000e-04\n",
      "Epoch 25/30\n",
      "67/67 [==============================] - ETA: 0s - loss: 0.4775 - categorical_accuracy: 0.8408\n",
      "Epoch 00025: val_loss improved from 0.65480 to 0.64109, saving model to model_init_2024-10-3101_15_29.137681/model-00025-0.47753-0.84080-0.64109-0.74000.keras\n",
      "67/67 [==============================] - 25s 380ms/step - loss: 0.4775 - categorical_accuracy: 0.8408 - val_loss: 0.6411 - val_categorical_accuracy: 0.7400 - lr: 1.0000e-04\n",
      "Epoch 26/30\n",
      "67/67 [==============================] - ETA: 0s - loss: 0.5360 - categorical_accuracy: 0.7811\n",
      "Epoch 00026: val_loss did not improve from 0.64109\n",
      "67/67 [==============================] - 21s 321ms/step - loss: 0.5360 - categorical_accuracy: 0.7811 - val_loss: 0.6529 - val_categorical_accuracy: 0.7000 - lr: 1.0000e-04\n",
      "Epoch 27/30\n",
      "67/67 [==============================] - ETA: 0s - loss: 0.4662 - categorical_accuracy: 0.8259\n",
      "Epoch 00027: val_loss improved from 0.64109 to 0.63084, saving model to model_init_2024-10-3101_15_29.137681/model-00027-0.46619-0.82587-0.63084-0.69000.keras\n",
      "67/67 [==============================] - 23s 348ms/step - loss: 0.4662 - categorical_accuracy: 0.8259 - val_loss: 0.6308 - val_categorical_accuracy: 0.6900 - lr: 1.0000e-04\n",
      "Epoch 28/30\n",
      "67/67 [==============================] - ETA: 0s - loss: 0.4309 - categorical_accuracy: 0.8358\n",
      "Epoch 00028: val_loss improved from 0.63084 to 0.62321, saving model to model_init_2024-10-3101_15_29.137681/model-00028-0.43090-0.83582-0.62321-0.74000.keras\n",
      "67/67 [==============================] - 23s 349ms/step - loss: 0.4309 - categorical_accuracy: 0.8358 - val_loss: 0.6232 - val_categorical_accuracy: 0.7400 - lr: 1.0000e-04\n",
      "Epoch 29/30\n",
      "67/67 [==============================] - ETA: 0s - loss: 0.4236 - categorical_accuracy: 0.8458\n",
      "Epoch 00029: val_loss improved from 0.62321 to 0.60213, saving model to model_init_2024-10-3101_15_29.137681/model-00029-0.42362-0.84577-0.60213-0.73000.keras\n",
      "67/67 [==============================] - 22s 340ms/step - loss: 0.4236 - categorical_accuracy: 0.8458 - val_loss: 0.6021 - val_categorical_accuracy: 0.7300 - lr: 1.0000e-04\n",
      "Epoch 30/30\n",
      "67/67 [==============================] - ETA: 0s - loss: 0.4620 - categorical_accuracy: 0.8607\n",
      "Epoch 00030: val_loss improved from 0.60213 to 0.59753, saving model to model_init_2024-10-3101_15_29.137681/model-00030-0.46198-0.86070-0.59753-0.72000.keras\n",
      "67/67 [==============================] - 25s 378ms/step - loss: 0.4620 - categorical_accuracy: 0.8607 - val_loss: 0.5975 - val_categorical_accuracy: 0.7200 - lr: 1.0000e-04\n"
     ]
    }
   ],
   "source": [
    "history_transferLSTM = model_transferLSTM.fit(train_generator, \n",
    "                                       steps_per_epoch=steps_per_epoch, \n",
    "                                       epochs=num_epochs, \n",
    "                                       verbose=1, \n",
    "                                       callbacks=callbacks_list, \n",
    "                                       validation_data=val_generator, \n",
    "                                       validation_steps=validation_steps, \n",
    "                                       class_weight=None,\n",
    "                                       workers=1,\n",
    "                                       initial_epoch=0)"
   ]
  },
  {
   "cell_type": "code",
   "execution_count": 27,
   "metadata": {},
   "outputs": [
    {
     "data": {
      "image/png": "[encoded data removed]",
      "text/plain": [
       "<Figure size 576x576 with 2 Axes>"
      ]
     },
     "metadata": {
      "needs_background": "light"
     },
     "output_type": "display_data"
    }
   ],
   "source": [
    "plot(history_transferLSTM)"
   ]
  },
  {
   "cell_type": "markdown",
   "metadata": {},
   "source": [
    "# Observations"
   ]
  },
  {
   "cell_type": "markdown",
   "metadata": {},
   "source": [
    "- *Superior Performance*: The Transfer Learning and LSTM model excels in gesture recognition.\n",
    "- *High Accuracy*: Achieves 86.1% training accuracy and 74.0% validation accuracy.\n",
    "- *Low Loss*: Exhibits a validation loss of 0.60.\n",
    "- *Optimized*: Utilizes 297,733 parameters effectively.\n",
    "- *Best Model*: Stands out as the most effective and optimized model among those evaluated."
   ]
  },
  {
   "cell_type": "code",
   "execution_count": null,
   "metadata": {},
   "outputs": [],
   "source": []
  }
 ],
 "metadata": {
  "accelerator": "GPU",
  "colab": {
   "gpuType": "T4",
   "provenance": []
  },
  "kernelspec": {
   "display_name": "Python 3",
   "language": "python",
   "name": "python3"
  },
  "language_info": {
   "codemirror_mode": {
    "name": "ipython",
    "version": 3
   },
   "file_extension": ".py",
   "mimetype": "text/x-python",
   "name": "python",
   "nbconvert_exporter": "python",
   "pygments_lexer": "ipython3",
   "version": "3.7.3"
  }
 },
 "nbformat": 4,
 "nbformat_minor": 4
}
